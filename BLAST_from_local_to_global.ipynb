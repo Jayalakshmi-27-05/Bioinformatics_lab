{
  "nbformat": 4,
  "nbformat_minor": 0,
  "metadata": {
    "colab": {
      "provenance": [],
      "authorship_tag": "ABX9TyNgDDhsCmR+lWVqPNC1JtT+",
      "include_colab_link": true
    },
    "kernelspec": {
      "name": "python3",
      "display_name": "Python 3"
    },
    "language_info": {
      "name": "python"
    }
  },
  "cells": [
    {
      "cell_type": "markdown",
      "metadata": {
        "id": "view-in-github",
        "colab_type": "text"
      },
      "source": [
        "<a href=\"https://colab.research.google.com/github/Jayalakshmi-27-05/Bioinformatics_lab/blob/main/BLAST_from_local_to_global.ipynb\" target=\"_parent\"><img src=\"https://colab.research.google.com/assets/colab-badge.svg\" alt=\"Open In Colab\"/></a>"
      ]
    },
    {
      "cell_type": "code",
      "source": [
        "!pip install biopython"
      ],
      "metadata": {
        "colab": {
          "base_uri": "https://localhost:8080/"
        },
        "id": "5WESkNaXTccF",
        "outputId": "b06dd551-0865-4ffd-e3c4-75a6e2eeb60f"
      },
      "execution_count": 1,
      "outputs": [
        {
          "output_type": "stream",
          "name": "stdout",
          "text": [
            "Collecting biopython\n",
            "  Downloading biopython-1.85-cp312-cp312-manylinux_2_17_x86_64.manylinux2014_x86_64.whl.metadata (13 kB)\n",
            "Requirement already satisfied: numpy in /usr/local/lib/python3.12/dist-packages (from biopython) (2.0.2)\n",
            "Downloading biopython-1.85-cp312-cp312-manylinux_2_17_x86_64.manylinux2014_x86_64.whl (3.3 MB)\n",
            "\u001b[?25l   \u001b[90m━━━━━━━━━━━━━━━━━━━━━━━━━━━━━━━━━━━━━━━━\u001b[0m \u001b[32m0.0/3.3 MB\u001b[0m \u001b[31m?\u001b[0m eta \u001b[36m-:--:--\u001b[0m\r\u001b[2K   \u001b[91m━━━━━━━━━━━━━━━━━━━━━━━━━━━━━━━━━━━━━━━\u001b[0m\u001b[91m╸\u001b[0m \u001b[32m3.3/3.3 MB\u001b[0m \u001b[31m93.3 MB/s\u001b[0m eta \u001b[36m0:00:01\u001b[0m\r\u001b[2K   \u001b[90m━━━━━━━━━━━━━━━━━━━━━━━━━━━━━━━━━━━━━━━━\u001b[0m \u001b[32m3.3/3.3 MB\u001b[0m \u001b[31m45.2 MB/s\u001b[0m eta \u001b[36m0:00:00\u001b[0m\n",
            "\u001b[?25hInstalling collected packages: biopython\n",
            "Successfully installed biopython-1.85\n"
          ]
        }
      ]
    },
    {
      "cell_type": "code",
      "execution_count": 4,
      "metadata": {
        "colab": {
          "base_uri": "https://localhost:8080/"
        },
        "id": "0MYPT9jI8h1m",
        "outputId": "92390b4c-e850-4599-bc42-a8dfe7e9afa8"
      },
      "outputs": [
        {
          "output_type": "stream",
          "name": "stdout",
          "text": [
            "Sequence 1 (PU773469.1 Sequence 35 from patent US 12098131 B2):\n",
            "GTTAATGACTTCGATCTGATT... (21 bp)\n",
            "Sequence 2 (PU773470.1 Sequence 36 from patent US 12098131 B2):\n",
            "TCAGATCGAAGTCATTAACAT... (21 bp)\n",
            "\n",
            " Best Global Alignment:\n",
            "\n",
            "GTTAATGACTTCGATCTGAT-----T\n",
            "     |.|..||||..|.||     |\n",
            "-----TCAGATCGAAGTCATTAACAT\n",
            "  Score=0\n",
            "\n"
          ]
        }
      ],
      "source": [
        "\n",
        "from Bio import Entrez, SeqIO, pairwise2\n",
        "from Bio.pairwise2 import format_alignment\n",
        "\n",
        "# Set your email for NCBI access\n",
        "Entrez.email = \"jayalakshmim.bt23@rvce.edu.in\"\n",
        "\n",
        "# Function to fetch sequence from NCBI using accession ID\n",
        "def fetch_sequence(accession_id):\n",
        "    handle = Entrez.efetch(db=\"nucleotide\", id=accession_id, rettype=\"fasta\", retmode=\"text\")\n",
        "    record = SeqIO.read(handle, \"fasta\")\n",
        "    handle.close()\n",
        "    return str(record.seq), record.description\n",
        "\n",
        "sequence_ids = [\"PU773469.1\", \"PU773470.1\"]\n",
        "\n",
        "# Fetch sequences\n",
        "seq1, desc1 = fetch_sequence(sequence_ids[0])\n",
        "seq2, desc2 = fetch_sequence(sequence_ids[1])\n",
        "\n",
        "print(f\"Sequence 1 ({desc1}):\\n{seq1[:60]}... ({len(seq1)} bp)\")\n",
        "print(f\"Sequence 2 ({desc2}):\\n{seq2[:60]}... ({len(seq2)} bp)\")\n",
        "\n",
        "\n",
        "alignments = pairwise2.align.globalms(seq1, seq2, match=2, mismatch=-1, open=-5, extend=-0.5)\n",
        "print(\"\\n Best Global Alignment:\\n\")\n",
        "print(format_alignment(*alignments[0]))"
      ]
    }
  ]
}