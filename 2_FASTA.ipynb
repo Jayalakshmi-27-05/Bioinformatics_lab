{
  "nbformat": 4,
  "nbformat_minor": 0,
  "metadata": {
    "colab": {
      "provenance": [],
      "authorship_tag": "ABX9TyNlvHU3FXZAvmHGmWA1wYHT",
      "include_colab_link": true
    },
    "kernelspec": {
      "name": "python3",
      "display_name": "Python 3"
    },
    "language_info": {
      "name": "python"
    }
  },
  "cells": [
    {
      "cell_type": "markdown",
      "metadata": {
        "id": "view-in-github",
        "colab_type": "text"
      },
      "source": [
        "<a href=\"https://colab.research.google.com/github/Jayalakshmi-27-05/Bioinformatics_lab/blob/main/2_FASTA.ipynb\" target=\"_parent\"><img src=\"https://colab.research.google.com/assets/colab-badge.svg\" alt=\"Open In Colab\"/></a>"
      ]
    },
    {
      "cell_type": "code",
      "execution_count": null,
      "metadata": {
        "colab": {
          "base_uri": "https://localhost:8080/"
        },
        "id": "u-GdrW_b3377",
        "outputId": "4f32e3ca-cd90-45cd-db83-5908b3424937"
      },
      "outputs": [
        {
          "output_type": "stream",
          "name": "stdout",
          "text": [
            "Collecting biopython\n",
            "  Downloading biopython-1.85-cp312-cp312-manylinux_2_17_x86_64.manylinux2014_x86_64.whl.metadata (13 kB)\n",
            "Requirement already satisfied: numpy in /usr/local/lib/python3.12/dist-packages (from biopython) (2.0.2)\n",
            "Downloading biopython-1.85-cp312-cp312-manylinux_2_17_x86_64.manylinux2014_x86_64.whl (3.3 MB)\n",
            "\u001b[?25l   \u001b[90m━━━━━━━━━━━━━━━━━━━━━━━━━━━━━━━━━━━━━━━━\u001b[0m \u001b[32m0.0/3.3 MB\u001b[0m \u001b[31m?\u001b[0m eta \u001b[36m-:--:--\u001b[0m\r\u001b[2K   \u001b[91m━━━\u001b[0m\u001b[90m╺\u001b[0m\u001b[90m━━━━━━━━━━━━━━━━━━━━━━━━━━━━━━━━━━━━\u001b[0m \u001b[32m0.3/3.3 MB\u001b[0m \u001b[31m8.1 MB/s\u001b[0m eta \u001b[36m0:00:01\u001b[0m\r\u001b[2K   \u001b[91m━━━━━━━━━━━━━━━━━━━━━━━━━━━━━━━\u001b[0m\u001b[90m╺\u001b[0m\u001b[90m━━━━━━━━\u001b[0m \u001b[32m2.6/3.3 MB\u001b[0m \u001b[31m37.4 MB/s\u001b[0m eta \u001b[36m0:00:01\u001b[0m\r\u001b[2K   \u001b[90m━━━━━━━━━━━━━━━━━━━━━━━━━━━━━━━━━━━━━━━━\u001b[0m \u001b[32m3.3/3.3 MB\u001b[0m \u001b[31m33.3 MB/s\u001b[0m eta \u001b[36m0:00:00\u001b[0m\n",
            "\u001b[?25hInstalling collected packages: biopython\n",
            "Successfully installed biopython-1.85\n"
          ]
        }
      ],
      "source": [
        "!pip install biopython"
      ]
    },
    {
      "cell_type": "code",
      "source": [
        "from Bio.Blast import NCBIWWW\n",
        "from Bio.Blast import NCBIXML"
      ],
      "metadata": {
        "id": "2wwBwARc4PCL"
      },
      "execution_count": null,
      "outputs": []
    },
    {
      "cell_type": "code",
      "source": [
        "def read_fasta(file_path):\n",
        "    \"\"\"Reads a FASTA file and returns a dictionary of sequences.\"\"\"\n",
        "    sequences = {}\n",
        "    current_sequence_name = None\n",
        "    with open(file_path, 'r') as f:\n",
        "        for line in f:\n",
        "            line = line.strip()\n",
        "            if line.startswith('>'):\n",
        "                current_sequence_name = line[1:]\n",
        "                sequences[current_sequence_name] = ''\n",
        "            elif current_sequence_name:\n",
        "                sequences[current_sequence_name] += line\n",
        "    return sequences\n",
        "\n",
        "def simple_sequence_comparison(seq1, seq2, match_score=1, mismatch_penalty=-1, gap_penalty=-2):\n",
        "    \"\"\"Performs a simple character-by-character comparison of two sequences.\"\"\"\n",
        "    score = 0\n",
        "    alignment_seq1 = \"\"\n",
        "    alignment_seq2 = \"\"\n",
        "    i, j = 0, 0\n",
        "\n",
        "    while i < len(seq1) and j < len(seq2):\n",
        "        if seq1[i] == seq2[j]:\n",
        "            score += match_score\n",
        "            alignment_seq1 += seq1[i]\n",
        "            alignment_seq2 += seq2[j]\n",
        "            i += 1\n",
        "            j += 1\n",
        "        else:\n",
        "            # Simple approach: penalize mismatches and advance both\n",
        "            score += mismatch_penalty\n",
        "            alignment_seq1 += seq1[i]\n",
        "            alignment_seq2 += seq2[j]\n",
        "            i += 1\n",
        "            j += 1\n",
        "\n",
        "    # Add remaining characters with gap penalty\n",
        "    while i < len(seq1):\n",
        "        score += gap_penalty\n",
        "        alignment_seq1 += seq1[i]\n",
        "        alignment_seq2 += '-'\n",
        "        i += 1\n",
        "    while j < len(seq2):\n",
        "        score += gap_penalty\n",
        "        alignment_seq1 += '-'\n",
        "        alignment_seq2 += seq2[j]\n",
        "        j += 1\n",
        "\n",
        "    return score, alignment_seq1, alignment_seq2\n",
        "\n",
        "# Example usage:\n",
        "# Create dummy FASTA files for demonstration\n",
        "with open('sequence1.fasta', 'w') as f:\n",
        "    f.write('>SeqA\\n')\n",
        "    f.write('ATGCGTACGTAC')\n",
        "\n",
        "with open('sequence2.fasta', 'w') as f:\n",
        "    f.write('>SeqB\\n')\n",
        "    f.write('ATGCGTAGCTAC')\n",
        "\n",
        "# Read sequences from FASTA files\n",
        "sequences1 = read_fasta('sequence1.fasta')\n",
        "sequences2 = read_fasta('sequence2.fasta')\n",
        "\n",
        "# Assuming each file has only one sequence for this example\n",
        "seq1_name = list(sequences1.keys())[0]\n",
        "seq2_name = list(sequences2.keys())[0]\n",
        "sequence1 = sequences1[seq1_name]\n",
        "sequence2 = sequences2[seq2_name]\n",
        "\n",
        "# Perform simple comparison\n",
        "score, aligned_seq1, aligned_seq2 = simple_sequence_comparison(sequence1, sequence2)\n",
        "\n",
        "print(f\"Sequence 1 ({seq1_name}): {sequence1}\")\n",
        "print(f\"Sequence 2 ({seq2_name}): {sequence2}\")\n",
        "print(\"\\nSimple Comparison Results:\")\n",
        "print(f\"Alignment Score: {score}\")\n",
        "print(f\"Aligned Sequence 1: {aligned_seq1}\")\n",
        "print(f\"Aligned Sequence 2: {aligned_seq2}\")"
      ],
      "metadata": {
        "colab": {
          "base_uri": "https://localhost:8080/"
        },
        "id": "a5x62eO64ott",
        "outputId": "ca82c286-0536-48fd-822c-d6b750bdf2ee"
      },
      "execution_count": null,
      "outputs": [
        {
          "output_type": "stream",
          "name": "stdout",
          "text": [
            "Sequence 1 (SeqA): ATGCGTACGTAC\n",
            "Sequence 2 (SeqB): ATGCGTAGCTAC\n",
            "\n",
            "Simple Comparison Results:\n",
            "Alignment Score: 8\n",
            "Aligned Sequence 1: ATGCGTACGTAC\n",
            "Aligned Sequence 2: ATGCGTAGCTAC\n"
          ]
        }
      ]
    }
  ]
}