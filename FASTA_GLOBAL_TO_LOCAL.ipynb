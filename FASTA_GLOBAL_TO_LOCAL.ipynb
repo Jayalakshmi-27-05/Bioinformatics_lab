{
  "nbformat": 4,
  "nbformat_minor": 0,
  "metadata": {
    "colab": {
      "provenance": [],
      "authorship_tag": "ABX9TyO+hG6uZWqD1+X/fXwi8LkV",
      "include_colab_link": true
    },
    "kernelspec": {
      "name": "python3",
      "display_name": "Python 3"
    },
    "language_info": {
      "name": "python"
    }
  },
  "cells": [
    {
      "cell_type": "markdown",
      "metadata": {
        "id": "view-in-github",
        "colab_type": "text"
      },
      "source": [
        "<a href=\"https://colab.research.google.com/github/Jayalakshmi-27-05/Bioinformatics_lab/blob/main/FASTA_GLOBAL_TO_LOCAL.ipynb\" target=\"_parent\"><img src=\"https://colab.research.google.com/assets/colab-badge.svg\" alt=\"Open In Colab\"/></a>"
      ]
    },
    {
      "cell_type": "code",
      "source": [
        "!pip install biopython"
      ],
      "metadata": {
        "colab": {
          "base_uri": "https://localhost:8080/"
        },
        "id": "BQC2vItG6yJP",
        "outputId": "4c0a429a-ba16-4007-951e-8ec89cd3154b"
      },
      "execution_count": 1,
      "outputs": [
        {
          "output_type": "stream",
          "name": "stdout",
          "text": [
            "Collecting biopython\n",
            "  Downloading biopython-1.85-cp312-cp312-manylinux_2_17_x86_64.manylinux2014_x86_64.whl.metadata (13 kB)\n",
            "Requirement already satisfied: numpy in /usr/local/lib/python3.12/dist-packages (from biopython) (2.0.2)\n",
            "Downloading biopython-1.85-cp312-cp312-manylinux_2_17_x86_64.manylinux2014_x86_64.whl (3.3 MB)\n",
            "\u001b[2K   \u001b[90m━━━━━━━━━━━━━━━━━━━━━━━━━━━━━━━━━━━━━━━━\u001b[0m \u001b[32m3.3/3.3 MB\u001b[0m \u001b[31m24.5 MB/s\u001b[0m eta \u001b[36m0:00:00\u001b[0m\n",
            "\u001b[?25hInstalling collected packages: biopython\n",
            "Successfully installed biopython-1.85\n"
          ]
        }
      ]
    },
    {
      "cell_type": "code",
      "source": [
        "from Bio import pairwise2\n",
        "from Bio.pairwise2 import format_alignment\n",
        "def read_fasta(file_path):\n",
        "    with open(file_path, 'r') as f:\n",
        "        lines = f.readlines()\n",
        "        return ''.join(line.strip() for line in lines if not line.startswith('>'))\n",
        "with open('sequence1.fasta', 'w') as f:\n",
        "    f.write('>SeqA\\n')\n",
        "    f.write('ATGCGTACGTAC')\n",
        "\n",
        "with open('sequence2.fasta', 'w') as f:\n",
        "    f.write('>SeqB\\n')\n",
        "    f.write('GCGTAGCTAC')\n",
        "\n",
        "# Read sequences\n",
        "seq1 = read_fasta('sequence1.fasta')\n",
        "seq2 = read_fasta('sequence2.fasta')\n",
        "\n",
        "alignments = pairwise2.align.localms(seq1, seq2, match=2, mismatch=-1, open=-2, extend=-0.5)\n",
        "print(\"Best Local Alignment:\\n\")\n",
        "print(format_alignment(*alignments[0]))"
      ],
      "metadata": {
        "colab": {
          "base_uri": "https://localhost:8080/"
        },
        "id": "DHXmGG3b6yh9",
        "outputId": "59384080-a8f5-4103-e373-b4915958b78c"
      },
      "execution_count": 3,
      "outputs": [
        {
          "output_type": "stream",
          "name": "stdout",
          "text": [
            "Best Local Alignment:\n",
            "\n",
            "3 GCGTACG-TAC\n",
            "  ||||| | |||\n",
            "1 GCGTA-GCTAC\n",
            "  Score=14\n",
            "\n"
          ]
        }
      ]
    }
  ]
}