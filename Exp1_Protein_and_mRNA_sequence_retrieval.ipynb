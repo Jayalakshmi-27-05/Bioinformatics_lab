{
  "nbformat": 4,
  "nbformat_minor": 0,
  "metadata": {
    "colab": {
      "provenance": []
    },
    "kernelspec": {
      "name": "python3",
      "display_name": "Python 3"
    },
    "language_info": {
      "name": "python"
    }
  },
  "cells": [
    {
      "cell_type": "code",
      "source": [
        "import os\n",
        "from google.colab import files\n",
        "!pip install biopython\n",
        "from Bio import SeqIO, Entrez\n",
        "mysearch = Entrez.esearch(db='nucleotide',term=\"[alzheimer]\")\n",
        "myrecord = Entrez.read(mysearch)\n",
        "mysearch.close()\n",
        "myids=myrecord[\"IdList\"]\n",
        "for id1 in myids:\n",
        "  filename = id1 + \".fasta\"\n",
        "  if not os.path.isfile(filename):\n",
        "    net_handle = Entrez.efetch(\n",
        "        db='nucleotide', id=id1, rettype=\"fasta\", retmode=\"text\"\n",
        "    )\n",
        "    out_handle= open(filename, \"w\")\n",
        "    out_handle.write(net_handle.read())\n",
        "    files.download(filename)\n",
        "    out_handle.close()\n",
        "    net_handle.close()\n",
        "  myrecord = SeqIO.read(filename,\"fasta\")\n",
        "  print(myrecord)"
      ],
      "metadata": {
        "colab": {
          "base_uri": "https://localhost:8080/"
        },
        "id": "vnLGd5IylVg3",
        "outputId": "218d2bb2-2482-43db-f6bb-d4de8dc8afb7"
      },
      "execution_count": null,
      "outputs": [
        {
          "output_type": "stream",
          "name": "stdout",
          "text": [
            "Requirement already satisfied: biopython in /usr/local/lib/python3.12/dist-packages (1.85)\n",
            "Requirement already satisfied: numpy in /usr/local/lib/python3.12/dist-packages (from biopython) (2.0.2)\n",
            "ID: NM_013850.2\n",
            "Name: NM_013850.2\n",
            "Description: NM_013850.2 Mus musculus ATP-binding cassette, sub-family A member 7 (Abca7), transcript variant 2, mRNA\n",
            "Number of features: 0\n",
            "Seq('GTCCGCAATTGAGCGGGGCTCCACTTAAAGGGGCCGCGCTCCCCCGCCGAGGCC...GAA')\n",
            "ID: NM_001347081.2\n",
            "Name: NM_001347081.2\n",
            "Description: NM_001347081.2 Mus musculus ATP-binding cassette, sub-family A member 7 (Abca7), transcript variant 1, mRNA\n",
            "Number of features: 0\n",
            "Seq('GTCCGCAATTGAGCGGGGCTCCACTTAAAGGGGCCGCGCTCCCCCGCCGAGGCC...GAA')\n",
            "ID: NM_001362271.1\n",
            "Name: NM_001362271.1\n",
            "Description: NM_001362271.1 Mus musculus presenilin 1 (Psen1), mRNA\n",
            "Number of features: 0\n",
            "Seq('AGTTGCGACACCGGTGAGACCTCTAGGGCGGGGCCTAGGACGACCTGCTCCGTG...AAA')\n",
            "ID: NM_144589.4\n",
            "Name: NM_144589.4\n",
            "Description: NM_144589.4 Homo sapiens catechol-O-methyltransferase domain containing 1 (COMTD1), mRNA\n",
            "Number of features: 0\n",
            "Seq('ACTGCCTCCCGCCGCCTCCTGCCCGCGCCATGACCCAGCCGGTGCCCCGGCTCT...GGA')\n",
            "ID: NG_012922.1\n",
            "Name: NG_012922.1\n",
            "Description: NG_012922.1 Homo sapiens glycogen synthase kinase 3 beta (GSK3B), RefSeqGene on chromosome 3\n",
            "Number of features: 0\n",
            "Seq('CCTGGGGTCTGGATCATGACCCGTTTCCTGTAACAGATTCAAGTGTTTTTCTTT...AGA')\n",
            "ID: NM_001195602.2\n",
            "Name: NM_001195602.2\n",
            "Description: NM_001195602.2 Homo sapiens selenophosphate synthetase 1 (SEPHS1), transcript variant 2, mRNA\n",
            "Number of features: 0\n",
            "Seq('GCACGCCGCCACCCAGCAGCCAGGGCCGCCTCTTAAAGGGAGGTGGCCGGCCTT...AAA')\n",
            "ID: NR_164738.1\n",
            "Name: NR_164738.1\n",
            "Description: NR_164738.1 Homo sapiens selenophosphate synthetase 1 (SEPHS1), transcript variant 5, non-coding RNA\n",
            "Number of features: 0\n",
            "Seq('GCACGCCGCCACCCAGCAGCCAGGGCCGCCTCTTAAAGGGAGGTGGCCGGCCTT...AAA')\n",
            "ID: NM_001375769.1\n",
            "Name: NM_001375769.1\n",
            "Description: NM_001375769.1 Homo sapiens selenophosphate synthetase 1 (SEPHS1), transcript variant 4, mRNA\n",
            "Number of features: 0\n",
            "Seq('GCACGCCGCCACCCAGCAGCCAGGGCCGCCTCTTAAAGGGAGGTGGCCGGCCTT...AAA')\n",
            "ID: NM_001195604.2\n",
            "Name: NM_001195604.2\n",
            "Description: NM_001195604.2 Homo sapiens selenophosphate synthetase 1 (SEPHS1), transcript variant 3, mRNA\n",
            "Number of features: 0\n",
            "Seq('GCACGCCGCCACCCAGCAGCCAGGGCCGCCTCTTAAAGGGAGGTGGCCGGCCTT...AAA')\n",
            "ID: NM_012247.5\n",
            "Name: NM_012247.5\n",
            "Description: NM_012247.5 Homo sapiens selenophosphate synthetase 1 (SEPHS1), transcript variant 1, mRNA\n",
            "Number of features: 0\n",
            "Seq('GCACGCCGCCACCCAGCAGCCAGGGCCGCCTCTTAAAGGGAGGTGGCCGGCCTT...AAA')\n",
            "ID: NR_047538.2\n",
            "Name: NR_047538.2\n",
            "Description: NR_047538.2 Homo sapiens CDKN2B and CDKN2A antisense cis and trans regulatory RNA 1 (CDKN2B-AS1), transcript variant 8, long non-coding RNA\n",
            "Number of features: 0\n",
            "Seq('AGCTACATCCGTCACCTGACACGGCCCTACCAGGAACAGCCGCGCTCCCGCGGA...ATA')\n",
            "ID: NR_047532.2\n",
            "Name: NR_047532.2\n",
            "Description: NR_047532.2 Homo sapiens CDKN2B and CDKN2A antisense cis and trans regulatory RNA 1 (CDKN2B-AS1), transcript variant 2, long non-coding RNA\n",
            "Number of features: 0\n",
            "Seq('AGCTACATCCGTCACCTGACACGGCCCTACCAGGAACAGCCGCGCTCCCGCGGA...ATA')\n",
            "ID: NR_047543.2\n",
            "Name: NR_047543.2\n",
            "Description: NR_047543.2 Homo sapiens CDKN2B and CDKN2A antisense cis and trans regulatory RNA 1 (CDKN2B-AS1), transcript variant 3, long non-coding RNA\n",
            "Number of features: 0\n",
            "Seq('AGCTACATCCGTCACCTGACACGGCCCTACCAGGAACAGCCGCGCTCCCGCGGA...ATA')\n",
            "ID: NR_047541.2\n",
            "Name: NR_047541.2\n",
            "Description: NR_047541.2 Homo sapiens CDKN2B and CDKN2A antisense cis and trans regulatory RNA 1 (CDKN2B-AS1), transcript variant 11, long non-coding RNA\n",
            "Number of features: 0\n",
            "Seq('AGCTACATCCGTCACCTGACACGGCCCTACCAGGAACAGCCGCGCTCCCGCGGA...CCA')\n",
            "ID: NR_047535.2\n",
            "Name: NR_047535.2\n",
            "Description: NR_047535.2 Homo sapiens CDKN2B and CDKN2A antisense cis and trans regulatory RNA 1 (CDKN2B-AS1), transcript variant 5, long non-coding RNA\n",
            "Number of features: 0\n",
            "Seq('AGCTACATCCGTCACCTGACACGGCCCTACCAGGAACAGCCGCGCTCCCGCGGA...ATA')\n",
            "ID: NR_047534.2\n",
            "Name: NR_047534.2\n",
            "Description: NR_047534.2 Homo sapiens CDKN2B and CDKN2A antisense cis and trans regulatory RNA 1 (CDKN2B-AS1), transcript variant 4, long non-coding RNA\n",
            "Number of features: 0\n",
            "Seq('AGCTACATCCGTCACCTGACACGGCCCTACCAGGAACAGCCGCGCTCCCGCGGA...ATA')\n",
            "ID: NR_047542.2\n",
            "Name: NR_047542.2\n",
            "Description: NR_047542.2 Homo sapiens CDKN2B and CDKN2A antisense cis and trans regulatory RNA 1 (CDKN2B-AS1), transcript variant 12, long non-coding RNA\n",
            "Number of features: 0\n",
            "Seq('AGCTACATCCGTCACCTGACACGGCCCTACCAGGAACAGCCGCGCTCCCGCGGA...CCA')\n",
            "ID: NR_047536.2\n",
            "Name: NR_047536.2\n",
            "Description: NR_047536.2 Homo sapiens CDKN2B and CDKN2A antisense cis and trans regulatory RNA 1 (CDKN2B-AS1), transcript variant 6, long non-coding RNA\n",
            "Number of features: 0\n",
            "Seq('AGCTACATCCGTCACCTGACACGGCCCTACCAGGAACAGCCGCGCTCCCGCGGA...ATA')\n",
            "ID: NR_047539.2\n",
            "Name: NR_047539.2\n",
            "Description: NR_047539.2 Homo sapiens CDKN2B and CDKN2A antisense cis and trans regulatory RNA 1 (CDKN2B-AS1), transcript variant 9, long non-coding RNA\n",
            "Number of features: 0\n",
            "Seq('AGCTACATCCGTCACCTGACACGGCCCTACCAGGAACAGCCGCGCTCCCGCGGA...CCA')\n",
            "ID: NR_003529.4\n",
            "Name: NR_003529.4\n",
            "Description: NR_003529.4 Homo sapiens CDKN2B and CDKN2A antisense cis and trans regulatory RNA 1 (CDKN2B-AS1), transcript variant 1, long non-coding RNA\n",
            "Number of features: 0\n",
            "Seq('AGCTACATCCGTCACCTGACACGGCCCTACCAGGAACAGCCGCGCTCCCGCGGA...ATA')\n"
          ]
        }
      ]
    },
    {
      "cell_type": "code",
      "source": [
        "import os\n",
        "!pip install bio\n",
        "from google.colab import files\n",
        "from Bio import SeqIO, Entrez\n",
        "import requests\n",
        "import io\n",
        "from IPython.display import display\n",
        "\n",
        "rsearch = Entrez.esearch(db='nuccore',term=\"[obesity]\")\n",
        "myrecord = Entrez.read(rsearch)\n",
        "rsearch.close()\n",
        "myids=myrecord[\"IdList\"]\n",
        "for id1 in myids:\n",
        "  filename = id1 + \".fasta\"\n",
        "  if not os.path.isfile(filename):\n",
        "    try:\n",
        "      net_handle = Entrez.efetch(\n",
        "          db='nuccore', id=id1, rettype=\"fasta_rna\", retmode=\"text\" # Changed rettype to fasta_rna\n",
        "      )\n",
        "      # Read the sequence directly from the network handle\n",
        "      fasta_data = net_handle.read()\n",
        "      net_handle.close()\n",
        "\n",
        "      # You can now work with fasta_data (the sequence in FASTA format)\n",
        "      # For example, parse it with SeqIO from the string data\n",
        "      try:\n",
        "          myrecord = SeqIO.read(io.StringIO(fasta_data),\"fasta\")\n",
        "          # Display just the sequence string\n",
        "          display(myrecord.seq)\n",
        "      except ValueError as e:\n",
        "          print(f\"Could not parse FASTA data for ID {id1}: {e}\")\n",
        "\n",
        "\n",
        "      # Now write to file and download (optional, since you have it in memory)\n",
        "      out_handle= open(filename, \"w\")\n",
        "      out_handle.write(fasta_data)\n",
        "      out_handle.close()\n",
        "\n",
        "      files.download(filename)\n",
        "\n",
        "\n",
        "    except requests.exceptions.HTTPError as e:\n",
        "      print(f\"Could not fetch sequence for ID {id1}: {e}\")\n",
        "      continue # Skip to the next ID if fetching fails"
      ],
      "metadata": {
        "colab": {
          "base_uri": "https://localhost:8080/"
        },
        "id": "N8sFZQdOlyfu",
        "outputId": "c6fa9899-03e8-4ed8-dc2e-25a06470c261"
      },
      "execution_count": null,
      "outputs": [
        {
          "output_type": "stream",
          "name": "stdout",
          "text": [
            "Requirement already satisfied: bio in /usr/local/lib/python3.12/dist-packages (1.8.0)\n",
            "Requirement already satisfied: biopython>=1.80 in /usr/local/lib/python3.12/dist-packages (from bio) (1.85)\n",
            "Requirement already satisfied: gprofiler-official in /usr/local/lib/python3.12/dist-packages (from bio) (1.0.0)\n",
            "Requirement already satisfied: mygene in /usr/local/lib/python3.12/dist-packages (from bio) (3.2.2)\n",
            "Requirement already satisfied: pandas in /usr/local/lib/python3.12/dist-packages (from bio) (2.2.2)\n",
            "Requirement already satisfied: pooch in /usr/local/lib/python3.12/dist-packages (from bio) (1.8.2)\n",
            "Requirement already satisfied: requests in /usr/local/lib/python3.12/dist-packages (from bio) (2.32.4)\n",
            "Requirement already satisfied: tqdm in /usr/local/lib/python3.12/dist-packages (from bio) (4.67.1)\n",
            "Requirement already satisfied: numpy in /usr/local/lib/python3.12/dist-packages (from biopython>=1.80->bio) (2.0.2)\n",
            "Requirement already satisfied: biothings-client>=0.2.6 in /usr/local/lib/python3.12/dist-packages (from mygene->bio) (0.4.1)\n",
            "Requirement already satisfied: python-dateutil>=2.8.2 in /usr/local/lib/python3.12/dist-packages (from pandas->bio) (2.9.0.post0)\n",
            "Requirement already satisfied: pytz>=2020.1 in /usr/local/lib/python3.12/dist-packages (from pandas->bio) (2025.2)\n",
            "Requirement already satisfied: tzdata>=2022.7 in /usr/local/lib/python3.12/dist-packages (from pandas->bio) (2025.2)\n",
            "Requirement already satisfied: platformdirs>=2.5.0 in /usr/local/lib/python3.12/dist-packages (from pooch->bio) (4.5.0)\n",
            "Requirement already satisfied: packaging>=20.0 in /usr/local/lib/python3.12/dist-packages (from pooch->bio) (25.0)\n",
            "Requirement already satisfied: charset_normalizer<4,>=2 in /usr/local/lib/python3.12/dist-packages (from requests->bio) (3.4.3)\n",
            "Requirement already satisfied: idna<4,>=2.5 in /usr/local/lib/python3.12/dist-packages (from requests->bio) (3.10)\n",
            "Requirement already satisfied: urllib3<3,>=1.21.1 in /usr/local/lib/python3.12/dist-packages (from requests->bio) (2.5.0)\n",
            "Requirement already satisfied: certifi>=2017.4.17 in /usr/local/lib/python3.12/dist-packages (from requests->bio) (2025.10.5)\n",
            "Requirement already satisfied: httpx>=0.22.0 in /usr/local/lib/python3.12/dist-packages (from biothings-client>=0.2.6->mygene->bio) (0.28.1)\n",
            "Requirement already satisfied: six>=1.5 in /usr/local/lib/python3.12/dist-packages (from python-dateutil>=2.8.2->pandas->bio) (1.17.0)\n",
            "Requirement already satisfied: anyio in /usr/local/lib/python3.12/dist-packages (from httpx>=0.22.0->biothings-client>=0.2.6->mygene->bio) (4.11.0)\n",
            "Requirement already satisfied: httpcore==1.* in /usr/local/lib/python3.12/dist-packages (from httpx>=0.22.0->biothings-client>=0.2.6->mygene->bio) (1.0.9)\n",
            "Requirement already satisfied: h11>=0.16 in /usr/local/lib/python3.12/dist-packages (from httpcore==1.*->httpx>=0.22.0->biothings-client>=0.2.6->mygene->bio) (0.16.0)\n",
            "Requirement already satisfied: sniffio>=1.1 in /usr/local/lib/python3.12/dist-packages (from anyio->httpx>=0.22.0->biothings-client>=0.2.6->mygene->bio) (1.3.1)\n",
            "Requirement already satisfied: typing_extensions>=4.5 in /usr/local/lib/python3.12/dist-packages (from anyio->httpx>=0.22.0->biothings-client>=0.2.6->mygene->bio) (4.15.0)\n"
          ]
        },
        {
          "output_type": "stream",
          "name": "stderr",
          "text": [
            "/usr/local/lib/python3.12/dist-packages/Bio/Entrez/__init__.py:734: UserWarning: \n",
            "            Email address is not specified.\n",
            "\n",
            "            To make use of NCBI's E-utilities, NCBI requires you to specify your\n",
            "            email address with each request.  As an example, if your email address\n",
            "            is A.N.Other@example.com, you can specify it as follows:\n",
            "               from Bio import Entrez\n",
            "               Entrez.email = 'A.N.Other@example.com'\n",
            "            In case of excessive usage of the E-utilities, NCBI will attempt to contact\n",
            "            a user at the email address provided before blocking access to the\n",
            "            E-utilities.\n",
            "  warnings.warn(\n"
          ]
        }
      ]
    },
    {
      "cell_type": "code",
      "source": [
        "import os\n",
        "!pip install biopython\n",
        "\n",
        "from Bio import Entrez, SeqIO\n",
        "from google.colab import files\n",
        "\n",
        "handle = Entrez.esearch(db=\"nucleotide\", term=\"obesity AND biomol_rna[PROP]\", retmax=5)\n",
        "ids = Entrez.read(handle)[\"IdList\"]\n",
        "handle.close()\n",
        "\n",
        "\n",
        "for seq_id in ids:\n",
        "    handle = Entrez.efetch(db=\"nucleotide\", id=seq_id, rettype=\"fasta\", retmode=\"text\")\n",
        "    record = SeqIO.read(handle, \"fasta\")\n",
        "    handle.close()\n",
        "    record.seq = record.seq.transcribe()\n",
        "    filename = f\"{seq_id}_RNA.fasta\"\n",
        "    SeqIO.write(record, filename, \"fasta\")\n",
        "\n",
        "    files.download(filename)\n",
        "    print(record.format(\"fasta\"))\n"
      ],
      "metadata": {
        "colab": {
          "base_uri": "https://localhost:8080/",
          "height": 1000
        },
        "id": "yOlF11R2mEgy",
        "outputId": "710eba0e-03fe-4795-ecef-ea6b0692e2aa"
      },
      "execution_count": null,
      "outputs": [
        {
          "output_type": "stream",
          "name": "stdout",
          "text": [
            "Requirement already satisfied: biopython in /usr/local/lib/python3.12/dist-packages (1.85)\n",
            "Requirement already satisfied: numpy in /usr/local/lib/python3.12/dist-packages (from biopython) (2.0.2)\n"
          ]
        },
        {
          "output_type": "display_data",
          "data": {
            "text/plain": [
              "<IPython.core.display.Javascript object>"
            ],
            "application/javascript": [
              "\n",
              "    async function download(id, filename, size) {\n",
              "      if (!google.colab.kernel.accessAllowed) {\n",
              "        return;\n",
              "      }\n",
              "      const div = document.createElement('div');\n",
              "      const label = document.createElement('label');\n",
              "      label.textContent = `Downloading \"${filename}\": `;\n",
              "      div.appendChild(label);\n",
              "      const progress = document.createElement('progress');\n",
              "      progress.max = size;\n",
              "      div.appendChild(progress);\n",
              "      document.body.appendChild(div);\n",
              "\n",
              "      const buffers = [];\n",
              "      let downloaded = 0;\n",
              "\n",
              "      const channel = await google.colab.kernel.comms.open(id);\n",
              "      // Send a message to notify the kernel that we're ready.\n",
              "      channel.send({})\n",
              "\n",
              "      for await (const message of channel.messages) {\n",
              "        // Send a message to notify the kernel that we're ready.\n",
              "        channel.send({})\n",
              "        if (message.buffers) {\n",
              "          for (const buffer of message.buffers) {\n",
              "            buffers.push(buffer);\n",
              "            downloaded += buffer.byteLength;\n",
              "            progress.value = downloaded;\n",
              "          }\n",
              "        }\n",
              "      }\n",
              "      const blob = new Blob(buffers, {type: 'application/binary'});\n",
              "      const a = document.createElement('a');\n",
              "      a.href = window.URL.createObjectURL(blob);\n",
              "      a.download = filename;\n",
              "      div.appendChild(a);\n",
              "      a.click();\n",
              "      div.remove();\n",
              "    }\n",
              "  "
            ]
          },
          "metadata": {}
        },
        {
          "output_type": "display_data",
          "data": {
            "text/plain": [
              "<IPython.core.display.Javascript object>"
            ],
            "application/javascript": [
              "download(\"download_0da18815-10d7-4133-b18d-08bf7cefc0c7\", \"3064746935_RNA.fasta\", 5413)"
            ]
          },
          "metadata": {}
        },
        {
          "output_type": "stream",
          "name": "stdout",
          "text": [
            ">NM_010551.5 Mus musculus interleukin 16 (Il16), transcript variant 2, mRNA\n",
            "AGUCCAAUCAGGGCGUGGGGUCCUGGUAGUGCAGAUUACUGUGUGCUCUGGCCUCUGCAA\n",
            "UUGCAGAGAGAAGCAAAGACAGUGACAUCCUGAAGGGCUGUACCAGCAGGGUCAGGGACU\n",
            "CAUGCAGUGGCAGCUAAAUCCAGUUCAUCUGUCACUCACCGGCCAAGGCCUGGAGAACAG\n",
            "GAGAGGAAGAAGCGUGGCCUCACUUCCUCUCUGAGGAUGGAACCCCACGGCCACUCCGGA\n",
            "AAGAGCCGGAAAUCCACGAAAUUUCGCUCCAUCUCCCGUUCCCUGAUCCUCUGUAACGCC\n",
            "AAGACCAGUGAUGACGGCUCCAGCCCAGAUGAGAAGUACCCUGACCCUUUUGAGACUUCA\n",
            "CUGUGCCAGGGCAAGGAGGGUUUCUUUCACUCCUCCAUGCAGCUGGCAGACACAUUUGAG\n",
            "GCUGGGCUCAGCAAUAUCCCAGACCUCGCACUGGCCUCGGACUCUGCUCAACUCGCAGCA\n",
            "GCUGGGAGCGAUCGAGGCAAGCACUGCAGGAAGAUGUUCUUCAUGAAGGAAUCUUCUUCA\n",
            "ACUUCCUCUAAAGAAAAGUCUGGAAAACCAGAAGCACAAAGUAGCAGCUUCCUGUUUCCU\n",
            "AAAGCUUGCCACCAAAGGACACGCAGCAACUCCACCAGUGUUAACCCCUACAGUGCUGGA\n",
            "GAAAUCGAUUUUCCAAUGACCAAGAAAUCUGCAGCUCCCACCGACCGGCAGCCCUACUCC\n",
            "CUCUGUAGCAACAGGAAGUCCCUCUCUCAACAACUGGACUACCCAAUUUUGGGCACUGCA\n",
            "AGACCAACUCGGUCACUGAGCACAGCUCAGCUCGGGCAGCUGUCUGGGGGUCUGCAGGCG\n",
            "UCAGUCAUCUCCAACAUAGUGCUGAUGAAGGGCCAAGCAAAGGGCCUGGGCUUCAGCAUU\n",
            "GUUGGAGGAAAGGACAGCAUUUACGGCCCUAUUGGAAUUUAUGUGAAGAGCAUCUUUGCA\n",
            "GGGGGAGCAGCUGCAGCUGAUGGACGGCUUCAGGAAGGUGAUGAAAUUCUGGAACUCAAU\n",
            "GGUGAAUCAAUGGCUGGCCUAACACACCAGGAUGCUUUGCAGAAGUUUAAGCAAGCCAAG\n",
            "AAGGGGCUGCUGACUCUGACAGUGAGGACUCGCCUGACAACACCCCCUUCACUAUGCAGC\n",
            "CACCUGUCACCUCCUCUGUGCCGUUCCCUGAGCUCCAGCACAUGUGGUGCCCAGGACAGC\n",
            "AGCCCCUUCUCCUUGGAAAGUCCAGCGUCUCCUGCUAGCACUGCCAAACCCAACUACAGA\n",
            "AUCAUGGUGGAGGUGUCUCUGAAGAAAGAGGCAGGUGUUGGCCUGGGGAUCGGCCUGUGC\n",
            "AGCAUCCCCUACUUCCAGUGCAUCUCAGGCAUCUUCGUUCACACACUGUCACCAGGAUCC\n",
            "GUGGCACAUCUUGAUGGACGGCUGAGGUGUGGUGAUGAGAUUGUGGAAAUCAAUGAUUCU\n",
            "CCAGUGCACUGCCUGACUCUCAAUGAAGUCUACACAAUCCUGAGCCACUGUGACCCUGGC\n",
            "CCAGUUCCCAUCAUCGUAAGCCGACAUCCGGACCCACAGGUUUCUGAACAGCAACUCAAG\n",
            "GAAGCUGUGGCUCAGGCUGUGGAAGGCGUCAAGUUUGGGAAGGACAGGCACCAGUGGAGC\n",
            "UUGGAAGGUGUCAAAAGGCUGGAGAGCAGCUGGCAUGGGCGGCCUACCUUGGAGAAAGAA\n",
            "CGUGAGAAGCACUCAGCGCCCCCACAUCGAAGGGCCCAGAAGAUCAUGGUCCGAUCCAGC\n",
            "AGUGACAGCAGCUACAUGUCUGGGUCACCAGGGGGAAGUCCCUGCAGUGCAGGUGCGGAG\n",
            "CCACAGCCUUCUGAGAGGGAAGGCAGCACACACAGUCCCAGCCUGUCCCCAGGGGAGGAG\n",
            "CAAGAGCCGUGCCCAGGGGUCCCAUCCAGGCCUCAGCAGGAGAGCCCACCCCUUCCUGAG\n",
            "AGCUUGGAAAGAGAGAGCCACCCACCACUGAGACUGAAGAAAUCUUUUGAGAUUUUGGUG\n",
            "AGAAAGCCGACAUCCUCCAAACCCAAGCCUCCACCCAGAAAAUACUUUAAAAAUGACAGC\n",
            "GAGCCUCAGAAGAAACUGGAGGAGAAAGAGAAGGUCACAGACCCUUCUGGGCACACCUUG\n",
            "CCCACCUGCAGCCAGGAAACCAGAGAGCUGCUGCCACUGUUGCUACAGGAAGACACUGCA\n",
            "GGGAGAGCCCCCUGCACCGCUGCCUGCUGCCCAGGACCUGCAGCCAGCACGCAGACUUCA\n",
            "UCCUCCACAGAAGGAGAGUCAAGGAGGAGUGCCAGCCCAGAGACUCCAGCAUCCCCAGGA\n",
            "AAACACCCGCUGCUGAAGAGGCAGGCACGGAUGGACUAUAGCUUUGAUAUCACUGCUGAA\n",
            "GACCCUUGGGUUAGAAUUUCCGACUGCAUCAAAAACUUAUUUAGCCCCAUCAUGAGUGAG\n",
            "AACCAUAGCCAUACACCACUACAGCCCAACACCAGCCUUGGUGAAGAGGAUGGGACACAG\n",
            "GGCUGUCCAGAGGGGGGCCUGUCAAAAAUGGACGCUGCCAAUGGUGCUCCCAGAGUUUAC\n",
            "AAGUCAGCAGAUGGCAGCACUGUGAAGAAGGGGCCUCCAGUAGCCCCAAAGCCAGCUUGG\n",
            "UUUCGGCAGAGCUUGAAAGGUCUGAGGAAUCGUGCCCCAGACCCCAGAAGACCCCCGGAA\n",
            "GUAGCCUCAGCCAUUCAGCCUACACCAGUUUCUAGGGACCCACCAGGGCCACAGCCUCAG\n",
            "GCCUCUUCCUCCAUCAGGCAGAGAAUCAGCUCCUUUGAAAACUUUGGCUCCUCACAAUUG\n",
            "CCAGACAGAGGAGUCCAGAGACUGAGCCUGCAGCCCAGCUCUGGGGAGACCACCAAAUUU\n",
            "CCAGGAAAGCAAGAUGGAGGACGAUUUUCUGGUCUCCUGGGUCAAGGGGCUACAGUAACA\n",
            "GCUAAGCACAGACAGACAGAGGUAGAGUCUAUGUCCACAACCUUCCCUAACUCCUCAGAG\n",
            "GUCAGGGACCCAGGUUUGCCUGAGUCUCCUCCCCCAGGUCAGCGACCCAGCACAAAAGCU\n",
            "UUGUCUCCAGACCCUCUCUUGAGACUGUUGACUACACAAUCCGAGGAUACUCAAGGACCA\n",
            "GGUCUCAAGAUGCCAAGUCAGCGGGCACGGAGCUUCCCCCUGACCAGGACCCAGUCCUGC\n",
            "GAGACAAAGCUGUUGGAUGAAAAGGCCAGUAAGCUUUACUCCAUCAGCAGCCAGCUAUCA\n",
            "UCUGCUGUCAUGAAAUCCCUGCUGUGCCUUCCAUCUUCAGUCUCUUGUGGCCAGAUCACC\n",
            "UGCAUCCCCAAGGAGAGGGUGUCUCCAAAGUCACCUUGCAACAACAGCUCAGCUGCAGAG\n",
            "GGUUUUGGUGAAGCCAUGGCCUCUGACACAGGGUUCUCUCUCAACCUUUCAGAGCUGAGA\n",
            "GAAUAUUCAGAAGGUCUCACAGAGCCCGGGGAAACCGAGGACAGGAACCACUGUUCUUCU\n",
            "CAGGCCGGCCAGUCGGUUAUCUCCUUGCUGAGUGCAGAAGAACUGGAAAAACUCAUUGAG\n",
            "GAAGUGAGAGUUCUAGAUGAAGCAACAUUGAAGCAAUUAGACAGCAUUCAUGUCACCAUC\n",
            "UUACACAAGGAAGAAGGUGCUGGUCUUGGAUUCAGCUUGGCAGGAGGGGCAGAUCUAGAA\n",
            "AACAAGGUGAUCACGGUUCACAGAGUGUUUCCAAAUGGGCUGGCUUCCCAGGAAGGCACA\n",
            "AUUCAGAAAGGCAACGAGGUUCUUUCCAUCAAUGGCAAAUCUCUCAAGGGCGCUACCCAC\n",
            "AAUGAUGCCCUAGCUAUCCUUCGCCAAGCUCGGGACCCAAGGCAAGCUGUGAUUGUCACC\n",
            "AGGAGGACAACUGUGGAGGCCACUCAUGACCUGAACUCCUCUACUGACUCCGCAGCCUCA\n",
            "GCUUCAGCAGCCAGUGACAUUUCUGUAGAAUCUAAGGAGGCCACUGUCUGCACAGUGACA\n",
            "CUGGAGAAGACCUCUGCAGGGCUGGGCUUCAGCCUGGAGGGAGGAAAGGGCUCCCUGCAU\n",
            "GGUGACAAGCCUCUUACCAUAAACAGGAUUUUCAAAGGGACAGAACAGGGUGAGAUGGUG\n",
            "CAGCCAGGGGAUGAGAUCUUGCAGCUCGCUGGCACUGCUGUGCAAGGUCUUACCCGGUUU\n",
            "GAAGCCUGGAAUGUCAUCAAGGCAUUGCCUGAUGGACCUGUCACUAUAGUCAUCAGAAGG\n",
            "ACCAGCCUCCAGUGCAAGCAGACAACAGCUUCUGCAGACUCAUAGGCAGGCGGCCAAUGC\n",
            "UAAGACAAAGCAGGAGCUGGAAGCUCCAGUAAUCGCUGAUUCUCAGGGUCUCUGCUGCCC\n",
            "ACCUCACCCAGGCUGGGGAAAGCCCAGGUGUGCCUCUGGUAGCUGCUGCUCAGGUUUGGA\n",
            "CCUCCUGGCACACUGCCCAUCAAGAGGGCUGUUCCAAAUGUCAGGACAGAGUCACGCAGA\n",
            "GGUGGCUGUUACGAACCACGUCAACUGUAUAUAGACAGCUUAGUGAUAAUACCCUGGUGC\n",
            "CGUAAUAAAAUGGUUGUAUUGCAGUUUCCCAAGAAACAAAUGACCUGAUUUGGAAAUCCC\n",
            "CUAGGGACUAUGAAAGCCACCCCAUGGCAGUGCUUUUUUUUUUUUUCUCUCAUGCAUCUC\n",
            "AUGUCUUGGAGGGGAGCUCCUUACUAUCAGCUCGAGCAGGUCAAGGCUGGGCUGGGGUCC\n",
            "UGUGAAGGGUCACUGCUUGUGGCUCUCCCCAGAGGGGCUGGCUGAUGACUGGGGAAGUUU\n",
            "CUUCACGGCUGGUGCUUCUGCACCAUGCCGAUUGAUUCUGCACCACACUGCCCAGCCACA\n",
            "CUACAGUCAGGUGCGGGUGCAUCUUUUAAAUGUUCUGCCUUUGAAGACUCAUAACAUUGC\n",
            "UCCUGUCACACUCCUGCCGAGAGCAGGCAAACACCUGCCUGGGUUUAAGGAAAGGGGAUA\n",
            "AGUUGUUAGAAACAGCUCUGUGAGAUGCAGCCUGCCAUGAAGAACACAUUCAAACACAUA\n",
            "GAAGACUUUUUGGUUGGGUCGAGAGCCUAGAAGGAGUGGAACCAGAAGACAGAGGGUAUG\n",
            "AGCAUAAAAUAAAAUUAUUGUUAAUGUCUUAUCUGUCACGUGUCAGGAACCCUGCUUGGU\n",
            "AUUAGAUGAUAGUUAUUGGUGAUCACAGCCACUUCACCAAUGGCGGUCCUGCACCAAUGU\n",
            "AUUGGAGGGUACUGAGCCUCAGAACAAUAAACAGCUUGUCAGGCUAAGAUGUGGAAGGGC\n",
            "AGAGGUUUAGUCAUUCCUUCAGUGACAUGAGCAGGCCCAGGAGAUUGAAAACAUGGCACA\n",
            "UCAGGGAAUAAAAACAAACAAACAAACAA\n",
            "\n"
          ]
        },
        {
          "output_type": "display_data",
          "data": {
            "text/plain": [
              "<IPython.core.display.Javascript object>"
            ],
            "application/javascript": [
              "\n",
              "    async function download(id, filename, size) {\n",
              "      if (!google.colab.kernel.accessAllowed) {\n",
              "        return;\n",
              "      }\n",
              "      const div = document.createElement('div');\n",
              "      const label = document.createElement('label');\n",
              "      label.textContent = `Downloading \"${filename}\": `;\n",
              "      div.appendChild(label);\n",
              "      const progress = document.createElement('progress');\n",
              "      progress.max = size;\n",
              "      div.appendChild(progress);\n",
              "      document.body.appendChild(div);\n",
              "\n",
              "      const buffers = [];\n",
              "      let downloaded = 0;\n",
              "\n",
              "      const channel = await google.colab.kernel.comms.open(id);\n",
              "      // Send a message to notify the kernel that we're ready.\n",
              "      channel.send({})\n",
              "\n",
              "      for await (const message of channel.messages) {\n",
              "        // Send a message to notify the kernel that we're ready.\n",
              "        channel.send({})\n",
              "        if (message.buffers) {\n",
              "          for (const buffer of message.buffers) {\n",
              "            buffers.push(buffer);\n",
              "            downloaded += buffer.byteLength;\n",
              "            progress.value = downloaded;\n",
              "          }\n",
              "        }\n",
              "      }\n",
              "      const blob = new Blob(buffers, {type: 'application/binary'});\n",
              "      const a = document.createElement('a');\n",
              "      a.href = window.URL.createObjectURL(blob);\n",
              "      a.download = filename;\n",
              "      div.appendChild(a);\n",
              "      a.click();\n",
              "      div.remove();\n",
              "    }\n",
              "  "
            ]
          },
          "metadata": {}
        },
        {
          "output_type": "display_data",
          "data": {
            "text/plain": [
              "<IPython.core.display.Javascript object>"
            ],
            "application/javascript": [
              "download(\"download_87aeef3b-1059-410a-80c1-9630955eef6f\", \"3064746906_RNA.fasta\", 5593)"
            ]
          },
          "metadata": {}
        },
        {
          "output_type": "stream",
          "name": "stdout",
          "text": [
            ">NM_001360087.2 Mus musculus interleukin 16 (Il16), transcript variant 1, mRNA\n",
            "AGAUGCCACAGAAGCAGCUCCUAGACUACUAGCUCCCUGCACUGUGACCCAGAUGUCAGG\n",
            "AUCCAUGCAGAAUAGGGAUUCUUCAUGGGUCUUGCACUGUGGGGGCAGAAGUGCAUCUGU\n",
            "AAUGGACAGGUGCAGCAGCUAGGAUGUGGCUGCCCUGCUCUGCCAGCUGGAGGAGGUCAC\n",
            "CACCAAUAUGCUCUUUGGCACAUCUACAGGCGCACCCCGCUGCUGGGAUGUCAGGCAACA\n",
            "UCACCCCGUCCCCUCUGCUCAUGGCAUCUCGUACCUGGCCGGGCUAACUGGACUCAUGCA\n",
            "GUGGCAGCUAAAUCCAGUUCAUCUGUCACUCACCGGCCAAGGCCUGGAGAACAGGAGAGG\n",
            "AAGAAGCGUGGCCUCACUUCCUCUCUGAGGAUGGAACCCCACGGCCACUCCGGAAAGAGC\n",
            "CGGAAAUCCACGAAAUUUCGCUCCAUCUCCCGUUCCCUGAUCCUCUGUAACGCCAAGACC\n",
            "AGUGAUGACGGCUCCAGCCCAGAUGAGAAGUACCCUGACCCUUUUGAGACUUCACUGUGC\n",
            "CAGGGCAAGGAGGGUUUCUUUCACUCCUCCAUGCAGCUGGCAGACACAUUUGAGGCUGGG\n",
            "CUCAGCAAUAUCCCAGACCUCGCACUGGCCUCGGACUCUGCUCAACUCGCAGCAGCUGGG\n",
            "AGCGAUCGAGGCAAGCACUGCAGGAAGAUGUUCUUCAUGAAGGAAUCUUCUUCAACUUCC\n",
            "UCUAAAGAAAAGUCUGGAAAACCAGAAGCACAAAGUAGCAGCUUCCUGUUUCCUAAAGCU\n",
            "UGCCACCAAAGGACACGCAGCAACUCCACCAGUGUUAACCCCUACAGUGCUGGAGAAAUC\n",
            "GAUUUUCCAAUGACCAAGAAAUCUGCAGCUCCCACCGACCGGCAGCCCUACUCCCUCUGU\n",
            "AGCAACAGGAAGUCCCUCUCUCAACAACUGGACUACCCAAUUUUGGGCACUGCAAGACCA\n",
            "ACUCGGUCACUGAGCACAGCUCAGCUCGGGCAGCUGUCUGGGGGUCUGCAGGCGUCAGUC\n",
            "AUCUCCAACAUAGUGCUGAUGAAGGGCCAAGCAAAGGGCCUGGGCUUCAGCAUUGUUGGA\n",
            "GGAAAGGACAGCAUUUACGGCCCUAUUGGAAUUUAUGUGAAGAGCAUCUUUGCAGGGGGA\n",
            "GCAGCUGCAGCUGAUGGACGGCUUCAGGAAGGUGAUGAAAUUCUGGAACUCAAUGGUGAA\n",
            "UCAAUGGCUGGCCUAACACACCAGGAUGCUUUGCAGAAGUUUAAGCAAGCCAAGAAGGGG\n",
            "CUGCUGACUCUGACAGUGAGGACUCGCCUGACAACACCCCCUUCACUAUGCAGCCACCUG\n",
            "UCACCUCCUCUGUGCCGUUCCCUGAGCUCCAGCACAUGUGGUGCCCAGGACAGCAGCCCC\n",
            "UUCUCCUUGGAAAGUCCAGCGUCUCCUGCUAGCACUGCCAAACCCAACUACAGAAUCAUG\n",
            "GUGGAGGUGUCUCUGAAGAAAGAGGCAGGUGUUGGCCUGGGGAUCGGCCUGUGCAGCAUC\n",
            "CCCUACUUCCAGUGCAUCUCAGGCAUCUUCGUUCACACACUGUCACCAGGAUCCGUGGCA\n",
            "CAUCUUGAUGGACGGCUGAGGUGUGGUGAUGAGAUUGUGGAAAUCAAUGAUUCUCCAGUG\n",
            "CACUGCCUGACUCUCAAUGAAGUCUACACAAUCCUGAGCCACUGUGACCCUGGCCCAGUU\n",
            "CCCAUCAUCGUAAGCCGACAUCCGGACCCACAGGUUUCUGAACAGCAACUCAAGGAAGCU\n",
            "GUGGCUCAGGCUGUGGAAGGCGUCAAGUUUGGGAAGGACAGGCACCAGUGGAGCUUGGAA\n",
            "GGUGUCAAAAGGCUGGAGAGCAGCUGGCAUGGGCGGCCUACCUUGGAGAAAGAACGUGAG\n",
            "AAGCACUCAGCGCCCCCACAUCGAAGGGCCCAGAAGAUCAUGGUCCGAUCCAGCAGUGAC\n",
            "AGCAGCUACAUGUCUGGGUCACCAGGGGGAAGUCCCUGCAGUGCAGGUGCGGAGCCACAG\n",
            "CCUUCUGAGAGGGAAGGCAGCACACACAGUCCCAGCCUGUCCCCAGGGGAGGAGCAAGAG\n",
            "CCGUGCCCAGGGGUCCCAUCCAGGCCUCAGCAGGAGAGCCCACCCCUUCCUGAGAGCUUG\n",
            "GAAAGAGAGAGCCACCCACCACUGAGACUGAAGAAAUCUUUUGAGAUUUUGGUGAGAAAG\n",
            "CCGACAUCCUCCAAACCCAAGCCUCCACCCAGAAAAUACUUUAAAAAUGACAGCGAGCCU\n",
            "CAGAAGAAACUGGAGGAGAAAGAGAAGGUCACAGACCCUUCUGGGCACACCUUGCCCACC\n",
            "UGCAGCCAGGAAACCAGAGAGCUGCUGCCACUGUUGCUACAGGAAGACACUGCAGGGAGA\n",
            "GCCCCCUGCACCGCUGCCUGCUGCCCAGGACCUGCAGCCAGCACGCAGACUUCAUCCUCC\n",
            "ACAGAAGGAGAGUCAAGGAGGAGUGCCAGCCCAGAGACUCCAGCAUCCCCAGGAAAACAC\n",
            "CCGCUGCUGAAGAGGCAGGCACGGAUGGACUAUAGCUUUGAUAUCACUGCUGAAGACCCU\n",
            "UGGGUUAGAAUUUCCGACUGCAUCAAAAACUUAUUUAGCCCCAUCAUGAGUGAGAACCAU\n",
            "AGCCAUACACCACUACAGCCCAACACCAGCCUUGGUGAAGAGGAUGGGACACAGGGCUGU\n",
            "CCAGAGGGGGGCCUGUCAAAAAUGGACGCUGCCAAUGGUGCUCCCAGAGUUUACAAGUCA\n",
            "GCAGAUGGCAGCACUGUGAAGAAGGGGCCUCCAGUAGCCCCAAAGCCAGCUUGGUUUCGG\n",
            "CAGAGCUUGAAAGGUCUGAGGAAUCGUGCCCCAGACCCCAGAAGACCCCCGGAAGUAGCC\n",
            "UCAGCCAUUCAGCCUACACCAGUUUCUAGGGACCCACCAGGGCCACAGCCUCAGGCCUCU\n",
            "UCCUCCAUCAGGCAGAGAAUCAGCUCCUUUGAAAACUUUGGCUCCUCACAAUUGCCAGAC\n",
            "AGAGGAGUCCAGAGACUGAGCCUGCAGCCCAGCUCUGGGGAGACCACCAAAUUUCCAGGA\n",
            "AAGCAAGAUGGAGGACGAUUUUCUGGUCUCCUGGGUCAAGGGGCUACAGUAACAGCUAAG\n",
            "CACAGACAGACAGAGGUAGAGUCUAUGUCCACAACCUUCCCUAACUCCUCAGAGGUCAGG\n",
            "GACCCAGGUUUGCCUGAGUCUCCUCCCCCAGGUCAGCGACCCAGCACAAAAGCUUUGUCU\n",
            "CCAGACCCUCUCUUGAGACUGUUGACUACACAAUCCGAGGAUACUCAAGGACCAGGUCUC\n",
            "AAGAUGCCAAGUCAGCGGGCACGGAGCUUCCCCCUGACCAGGACCCAGUCCUGCGAGACA\n",
            "AAGCUGUUGGAUGAAAAGGCCAGUAAGCUUUACUCCAUCAGCAGCCAGCUAUCAUCUGCU\n",
            "GUCAUGAAAUCCCUGCUGUGCCUUCCAUCUUCAGUCUCUUGUGGCCAGAUCACCUGCAUC\n",
            "CCCAAGGAGAGGGUGUCUCCAAAGUCACCUUGCAACAACAGCUCAGCUGCAGAGGGUUUU\n",
            "GGUGAAGCCAUGGCCUCUGACACAGGGUUCUCUCUCAACCUUUCAGAGCUGAGAGAAUAU\n",
            "UCAGAAGGUCUCACAGAGCCCGGGGAAACCGAGGACAGGAACCACUGUUCUUCUCAGGCC\n",
            "GGCCAGUCGGUUAUCUCCUUGCUGAGUGCAGAAGAACUGGAAAAACUCAUUGAGGAAGUG\n",
            "AGAGUUCUAGAUGAAGCAACAUUGAAGCAAUUAGACAGCAUUCAUGUCACCAUCUUACAC\n",
            "AAGGAAGAAGGUGCUGGUCUUGGAUUCAGCUUGGCAGGAGGGGCAGAUCUAGAAAACAAG\n",
            "GUGAUCACGGUUCACAGAGUGUUUCCAAAUGGGCUGGCUUCCCAGGAAGGCACAAUUCAG\n",
            "AAAGGCAACGAGGUUCUUUCCAUCAAUGGCAAAUCUCUCAAGGGCGCUACCCACAAUGAU\n",
            "GCCCUAGCUAUCCUUCGCCAAGCUCGGGACCCAAGGCAAGCUGUGAUUGUCACCAGGAGG\n",
            "ACAACUGUGGAGGCCACUCAUGACCUGAACUCCUCUACUGACUCCGCAGCCUCAGCUUCA\n",
            "GCAGCCAGUGACAUUUCUGUAGAAUCUAAGGAGGCCACUGUCUGCACAGUGACACUGGAG\n",
            "AAGACCUCUGCAGGGCUGGGCUUCAGCCUGGAGGGAGGAAAGGGCUCCCUGCAUGGUGAC\n",
            "AAGCCUCUUACCAUAAACAGGAUUUUCAAAGGGACAGAACAGGGUGAGAUGGUGCAGCCA\n",
            "GGGGAUGAGAUCUUGCAGCUCGCUGGCACUGCUGUGCAAGGUCUUACCCGGUUUGAAGCC\n",
            "UGGAAUGUCAUCAAGGCAUUGCCUGAUGGACCUGUCACUAUAGUCAUCAGAAGGACCAGC\n",
            "CUCCAGUGCAAGCAGACAACAGCUUCUGCAGACUCAUAGGCAGGCGGCCAAUGCUAAGAC\n",
            "AAAGCAGGAGCUGGAAGCUCCAGUAAUCGCUGAUUCUCAGGGUCUCUGCUGCCCACCUCA\n",
            "CCCAGGCUGGGGAAAGCCCAGGUGUGCCUCUGGUAGCUGCUGCUCAGGUUUGGACCUCCU\n",
            "GGCACACUGCCCAUCAAGAGGGCUGUUCCAAAUGUCAGGACAGAGUCACGCAGAGGUGGC\n",
            "UGUUACGAACCACGUCAACUGUAUAUAGACAGCUUAGUGAUAAUACCCUGGUGCCGUAAU\n",
            "AAAAUGGUUGUAUUGCAGUUUCCCAAGAAACAAAUGACCUGAUUUGGAAAUCCCCUAGGG\n",
            "ACUAUGAAAGCCACCCCAUGGCAGUGCUUUUUUUUUUUUUCUCUCAUGCAUCUCAUGUCU\n",
            "UGGAGGGGAGCUCCUUACUAUCAGCUCGAGCAGGUCAAGGCUGGGCUGGGGUCCUGUGAA\n",
            "GGGUCACUGCUUGUGGCUCUCCCCAGAGGGGCUGGCUGAUGACUGGGGAAGUUUCUUCAC\n",
            "GGCUGGUGCUUCUGCACCAUGCCGAUUGAUUCUGCACCACACUGCCCAGCCACACUACAG\n",
            "UCAGGUGCGGGUGCAUCUUUUAAAUGUUCUGCCUUUGAAGACUCAUAACAUUGCUCCUGU\n",
            "CACACUCCUGCCGAGAGCAGGCAAACACCUGCCUGGGUUUAAGGAAAGGGGAUAAGUUGU\n",
            "UAGAAACAGCUCUGUGAGAUGCAGCCUGCCAUGAAGAACACAUUCAAACACAUAGAAGAC\n",
            "UUUUUGGUUGGGUCGAGAGCCUAGAAGGAGUGGAACCAGAAGACAGAGGGUAUGAGCAUA\n",
            "AAAUAAAAUUAUUGUUAAUGUCUUAUCUGUCACGUGUCAGGAACCCUGCUUGGUAUUAGA\n",
            "UGAUAGUUAUUGGUGAUCACAGCCACUUCACCAAUGGCGGUCCUGCACCAAUGUAUUGGA\n",
            "GGGUACUGAGCCUCAGAACAAUAAACAGCUUGUCAGGCUAAGAUGUGGAAGGGCAGAGGU\n",
            "UUAGUCAUUCCUUCAGUGACAUGAGCAGGCCCAGGAGAUUGAAAACAUGGCACAUCAGGG\n",
            "AAUAAAAACAAACAAACAAACAA\n",
            "\n"
          ]
        },
        {
          "output_type": "display_data",
          "data": {
            "text/plain": [
              "<IPython.core.display.Javascript object>"
            ],
            "application/javascript": [
              "\n",
              "    async function download(id, filename, size) {\n",
              "      if (!google.colab.kernel.accessAllowed) {\n",
              "        return;\n",
              "      }\n",
              "      const div = document.createElement('div');\n",
              "      const label = document.createElement('label');\n",
              "      label.textContent = `Downloading \"${filename}\": `;\n",
              "      div.appendChild(label);\n",
              "      const progress = document.createElement('progress');\n",
              "      progress.max = size;\n",
              "      div.appendChild(progress);\n",
              "      document.body.appendChild(div);\n",
              "\n",
              "      const buffers = [];\n",
              "      let downloaded = 0;\n",
              "\n",
              "      const channel = await google.colab.kernel.comms.open(id);\n",
              "      // Send a message to notify the kernel that we're ready.\n",
              "      channel.send({})\n",
              "\n",
              "      for await (const message of channel.messages) {\n",
              "        // Send a message to notify the kernel that we're ready.\n",
              "        channel.send({})\n",
              "        if (message.buffers) {\n",
              "          for (const buffer of message.buffers) {\n",
              "            buffers.push(buffer);\n",
              "            downloaded += buffer.byteLength;\n",
              "            progress.value = downloaded;\n",
              "          }\n",
              "        }\n",
              "      }\n",
              "      const blob = new Blob(buffers, {type: 'application/binary'});\n",
              "      const a = document.createElement('a');\n",
              "      a.href = window.URL.createObjectURL(blob);\n",
              "      a.download = filename;\n",
              "      div.appendChild(a);\n",
              "      a.click();\n",
              "      div.remove();\n",
              "    }\n",
              "  "
            ]
          },
          "metadata": {}
        },
        {
          "output_type": "display_data",
          "data": {
            "text/plain": [
              "<IPython.core.display.Javascript object>"
            ],
            "application/javascript": [
              "download(\"download_c1370fff-30ad-4b5c-b313-30c2a8e1d754\", \"224589136_RNA.fasta\", 2245)"
            ]
          },
          "metadata": {}
        },
        {
          "output_type": "stream",
          "name": "stdout",
          "text": [
            ">NR_027284.1 Homo sapiens long intergenic non-protein coding RNA 602 (LINC00602), long non-coding RNA\n",
            "AUAUCUGCUUUCCGCUUCAUUUCGAGUUCAUAAAUUUAAAAAGAGACAGUGAGAGAAAGA\n",
            "AAAAGAAAAAAAAAGGCAAGGCGCCGGGAGCACAGUGGGUCCAGGGUUCCAUGGAGAACU\n",
            "GCGCAAAGCAAGUUGCCAAGAAAGCCCGCUGGCCAAGUUCGGGACCUGUCCACCACGCUC\n",
            "GCGCGCUCCGCUCAGCAGGCAGAUUCCAAAGGCUUGGGGCACUCUGGGGUGCGCGCCGAU\n",
            "CUUCUCGCAAAAGGCGAGUGUGUGGGGUUCCUCCUUCCCUCCUUUCCAUCUGGGGGUCUC\n",
            "GGGGAAAGCUGCACCCAGCGCCUUGGGCGCCCAUGAAGACCAGUCCAUCUCAGCUCAAGC\n",
            "UCCCAGCAGCAGCAACUUCGGACUCAGACCUCUCUCUUUAGAACAUGAGUGCUUGUGUGU\n",
            "GCGUGCGUGUGUGUGUGUGUGUGUGUCCGAGUGCACUUCACAUUUGGGGGUGCUUGUGCU\n",
            "CUCAGGAACGACUCUCCCGGCUGCCCGGAACUUAGAGAGUUUCCCUUUAAGCCGGAGAUG\n",
            "CUGCUCGGACACCCCCCCGCGUCCAACAGGAGGCGAUGACGUCUGUAGCCUCGUUGCCAG\n",
            "AACAGUCCCCAGGCUACCGCUGCCGUUCAUUGACAGGAGCGGGCGCUCGGACGUCAGCAG\n",
            "CCGGACCUUUGGCAAGGCUGCUCCCGCGGAGACGGCUCCCACCCCCGCACCUGCCAGCCC\n",
            "GCCCCCCCGGGGGGUGGUCACGAAAUCAAAGCCACCAGAGGAGGGGCCCGGGGAGGUGCU\n",
            "GGGGCUGGGGGAGGGGGAUGACUCGGAUCUGCCCUCUUUGUCCUGGAGCACCGGAGUAUA\n",
            "UAAAUAGUGCAGUCUCCAGCCAGACUCUCUCCCAGUCUUGCACGCCCCCGCAGUCCCCCC\n",
            "AACCCGACCCCCGCCCCUUGUCACUACGUGUCGGGCUCGCUCUGCCUGGAGGGAGGCUGG\n",
            "GGUGCGGGGAAGCAGGGAGUGCAAACAGACAUUGGUUCUCUUUCCUCUUCCCAUUCAUAC\n",
            "AUUUCUGUUGGAGUCCUAGGGCCGCCGCGCCGGGAGUCGCAAUGAAUGGAUGGAUGCCCG\n",
            "CGCGCUGGGACCACCAGGUCCGCAGAGAUGUCGCCGGCGCUAGGGGCGCUCCUCCCGCGU\n",
            "GGGGACAGGCGCCCUCGCCUAGGCGCAGUGUGGGGGGACCCCAAAAGACCCUUAAGAGGC\n",
            "CAAAGGCCUGCUCUCCCCGUUCUCCCCAACACACACCAGGGGUCUUUUCUGCCCCGGAGA\n",
            "AGUUGGGACGCAAAACGUAGGGAACUGCGCUCAGUCUCCGCACCACGAAGAGUCGAGAUG\n",
            "GGGACCGAGACCAGCACGGACGGUAGCAACAGAGAGGGGAGCGCCCAAGUGGCGCAACGU\n",
            "UGUGGCUGAAGCCAAGCCUGUCGCCUCCCCCUGAGUACCGCUGGCGGCCCAGGACCGUGC\n",
            "GCUCUCCCUUCCUGAGCACCCAGGGAUGCACUGCGCAGGGAAGGAGGGCACGGCGGGAGG\n",
            "GUGCUUGCAGGGGACUGCUGCGCGGAUUCCCCAUCCGCACCCGGCUCGCGGGGAAUCCGU\n",
            "GGGCUUGCACUCGCCAGAAAGAGCUGCUGCAGGAGCAGCCGGAUGGUGAGGCCCGUUCCC\n",
            "GACCCUGGGUGGGAGGAACUUAAAGGGCUGAGUUCUGAGGCGCCAGGCACAGGGCGCAGC\n",
            "UUCAUAAAUGCACCCAAAAGCUUCCAUGGACAGACGGCACAGAUGUCGCUGAAGUGAACC\n",
            "UAAGGAAGUUUGCUACCCCAAGACCCGGGCUUCGCGCCAGGUGACAACAGACGUCUGGGA\n",
            "GUGUGGUGACACCUGCGCAGAGUCCCUGGUGGUUCAACCUGUCCGAGAAGGUUGCAAGAA\n",
            "GAUGCCACUGUCUUACCUUUCUCCCCUAGUGCUCAUGCCCCAGAAAAGGCCACUGGGUCA\n",
            "CUAGAUCCCAACCCCUUGUGCCAUGAGAGGGAAGCCUGCACAACGGCGUUGGCACUCCCC\n",
            "CAUAAAUCGUCUCCUGGGUCCUUCCCAUUACGCACACACAUAAUGUCAUUUCUCCAGGGA\n",
            "AAAAUAAAUAACAACUUUCUUGACUAAAAAAAAAAAAAAAAAAAAAAAAAAAAAAAAAAA\n",
            "AAAAAAA\n",
            "\n"
          ]
        },
        {
          "output_type": "display_data",
          "data": {
            "text/plain": [
              "<IPython.core.display.Javascript object>"
            ],
            "application/javascript": [
              "\n",
              "    async function download(id, filename, size) {\n",
              "      if (!google.colab.kernel.accessAllowed) {\n",
              "        return;\n",
              "      }\n",
              "      const div = document.createElement('div');\n",
              "      const label = document.createElement('label');\n",
              "      label.textContent = `Downloading \"${filename}\": `;\n",
              "      div.appendChild(label);\n",
              "      const progress = document.createElement('progress');\n",
              "      progress.max = size;\n",
              "      div.appendChild(progress);\n",
              "      document.body.appendChild(div);\n",
              "\n",
              "      const buffers = [];\n",
              "      let downloaded = 0;\n",
              "\n",
              "      const channel = await google.colab.kernel.comms.open(id);\n",
              "      // Send a message to notify the kernel that we're ready.\n",
              "      channel.send({})\n",
              "\n",
              "      for await (const message of channel.messages) {\n",
              "        // Send a message to notify the kernel that we're ready.\n",
              "        channel.send({})\n",
              "        if (message.buffers) {\n",
              "          for (const buffer of message.buffers) {\n",
              "            buffers.push(buffer);\n",
              "            downloaded += buffer.byteLength;\n",
              "            progress.value = downloaded;\n",
              "          }\n",
              "        }\n",
              "      }\n",
              "      const blob = new Blob(buffers, {type: 'application/binary'});\n",
              "      const a = document.createElement('a');\n",
              "      a.href = window.URL.createObjectURL(blob);\n",
              "      a.download = filename;\n",
              "      div.appendChild(a);\n",
              "      a.click();\n",
              "      div.remove();\n",
              "    }\n",
              "  "
            ]
          },
          "metadata": {}
        },
        {
          "output_type": "display_data",
          "data": {
            "text/plain": [
              "<IPython.core.display.Javascript object>"
            ],
            "application/javascript": [
              "download(\"download_34d7ba03-e11d-4873-9c45-1fc49770c7a9\", \"3067432757_RNA.fasta\", 3275)"
            ]
          },
          "metadata": {}
        },
        {
          "output_type": "stream",
          "name": "stdout",
          "text": [
            ">NM_001306069.2 Mus musculus adiponectin receptor 1 (Adipor1), transcript variant 1, mRNA\n",
            "AGUCCGCGAGUGCUGUCUCCGCAGCCGCGCGGUAGACGGCCGCGUUCCAGCCCUGCUGGC\n",
            "GACCCCCGGAGUUGAGCCUGCGAGUUGGGUGCGGGAACACCGGCCCUGGGUGGCCGGGAA\n",
            "CCCUAAGGCCACCACCGCGAUCCGCAGGUCAAACGUGACGGGGCUCCCUCCUGGAUAGGG\n",
            "UCGGUCGGGAAGUUGAUGGAGACUCGACAGGCCUAAGUGUCCACCAUCACAGGAAGAUCU\n",
            "CUGCCCUCUGGGGCUGAGAGACCCCAACCUUUCUUCAAGCUGAAGCUGCCAGGCACUGAG\n",
            "GUACCAGCCAGAUGUCUUCCCACAAAGGCUCUGCCGGGGCACAAGGCAAUGGGGCUCCUU\n",
            "CUGGUAACAGAGAAGCUGACACAGUGGAGCUGGCUGAGCUGGGGCCCCUGCUGGAGGAGA\n",
            "AGGGCAAGCGGGCAGCCAGCAGCCCAGCCAAGGCUGAGGAAGAUCAAGCAUGCCCGGUGC\n",
            "CUCAGGAAGAGGAGGAGGAGGUGCGGGUGCUGACGCUUCCUCUGCAAGCCCACCAUGCCA\n",
            "UGGAGAAGAUGGAGGAGUUCGUGUAUAAGGUCUGGGAGGGACGUUGGAGAGUCAUCCCGU\n",
            "AUGAUGUGCUUCCUGACUGGCUGAAAGACAACGACUACCUGCUACAUGGCCACAGACCAC\n",
            "CUAUGCCCUCCUUUCGGGCUUGCUUCAAGAGCAUCUUCCGCAUCCACACAGAGACUGGCA\n",
            "ACAUCUGGACACAUCUGCUUGGUUUUGUGCUAUUUCUCUUUCUGGGAAUCUUGACGAUGC\n",
            "UGAGACCAAAUAUGUACUUCAUGGCUCCCCUGCAGGAGAAGGUGGUCUUCGGGAUGUUCU\n",
            "UCCUGGGCGCGGUGCUCUGCCUCAGUUUCUCCUGGCUCUUCCACACUGUCUACUGUCAUU\n",
            "CAGAGAAGGUCUCUCGGACUUUUUCCAAACUGGACUAUUCAGGGAUUGCUCUACUGAUUA\n",
            "UGGGGAGCUUCGUUCCCUGGCUCUAUUACUCCUUCUACUGCUCCCCACAGCCGCGGCUCA\n",
            "UCUACCUCUCCAUCGUCUGUGUCCUGGGCAUCUCUGCCAUCAUUGUGGCACAGUGGGACC\n",
            "GGUUUGCCACUCCCAAGCACCGGCAGACAAGAGCAGGAGUGUUCCUGGGACUUGGCUUGA\n",
            "GUGGUGUUGUACCCACCAUGCACUUUACUAUCGCUGAGGGCUUUGUCAAGGCCACCACGG\n",
            "UGGGCCAGAUGGGCUGGUUCUUCCUCAUGGCUGUGAUGUACAUCACCGGCGCCGGCCUGU\n",
            "AUGCUGCUCGGAUUCCUGAGCGCUUCUUCCCUGGAAAAUUUGACAUCUGGUUCCAGUCUC\n",
            "AUCAGAUUUUCCACGUCCUGGUGGUGGCAGCAGCUUUCGUCCACUUCUAUGGUGUGUCCA\n",
            "ACCUUCAGGAAUUCCGUUAUGGCCUAGAAGGUGGCUGUACCGACGACUCCCUUCUCUGAG\n",
            "CCUCCCCACCUGAGGGGUGGAGGAGGGACUUCCCAAGUGCUUUUAAAAAUAACUUCUUUG\n",
            "CUGAAGUAUGAGGAAGAGUCUGAGUUGUCUGUUUCUAGAAGAAAUCUCUUAGAGAAGUCA\n",
            "GUACCAGUGACAUGUCAGCUCACUGUCCCAGCCUCCGUCCGGGCAGUACACUUCCCAUGU\n",
            "GCAUUCCCGGCAGUCACCUCGGCAAGGCAACUGCUGCUCCUUCACAGAUAGGACGUGGGA\n",
            "GCUCAUGUUGAGAUUUUACCCAUUCCUCCAGCCAUUUUGGGAAAAAAAAAAUUAUGAACU\n",
            "GGGAUUCUUCAGAAAUUAUGUUUUGUUUUUUCUUGAAGAAAAUAUCCCCCCCUUACCCCC\n",
            "GUCCUUACUUUGUAACCUGGCUGAUAACGGGCCAUCCAUUUUUGUAGCACACUUUUCAGA\n",
            "AACAAUUAUAACCUGGUCCCAUCUUUCUAGGACAAACAAAGCCACGCCUUGAUGUAGCCC\n",
            "GGCUAAUCAUGGAAGUACGUCCAGGCUUCAAAUAACUUGAGUUUAAAUCCUUUUUUUUUU\n",
            "UUUUCUUGGCAGAGUAAUGUAAAAUUAAAAUGGGGAAGAUAUUUAAUAUUUAAUACUAAG\n",
            "CUUUAAAAAGAAACCUGCUAUCACUGCUAUGUAUCUUGAUGCAAAGACUAUGGUGAUAAU\n",
            "AAAAGAAAGUAUAGACAACGCUUGGCAUUCAAAGAGUUAACUGUGUUGUCUCCACUGUUU\n",
            "GCACACAACUCCUGAGGCUCGAGGUUUCUGAGGACUCAGCUUCUACUGAGAUACAAAUCG\n",
            "GAAUCAUACCAGCAGUGAGACGGGUGUGGUCAGCGAAUGAGCAUAACUCAGUUCCUAACC\n",
            "UCUCAUCUCUAAUACAACUUAGUACCAUACAGACUCCUGAUUAGUGUCCCUCAGAUGGUA\n",
            "GAGUGUGUGCCUAGCACCCACAAAGCCCUGGGUUUCGUCACCAUUAUCAGAUAAACCAGG\n",
            "AAUGGUAGGUCAUGCCUAUAACACCAAUACCAAGGAGAUUGGUAUAUACAUGAGACUGUC\n",
            "UCAGAAAGGAAAAUCACUGUGUUACCAUAGUAUUUUUGGUUUUUCGAGACAUGGUCUCUG\n",
            "UGUAGCAUUGGCUGUCUUAGAACUGACCCUGUAGACCAGGCUGGCCUCAAACUCUCAGAG\n",
            "AUCCCCCUGCAUCCACCUCCCAAGUGUUGGGAUUAAAGGCAUGUGGCACCACUGCCUAGU\n",
            "AUAGACUAUGAGAGUCUCCAGUGUUGAGGCAUACCCUAGAACUUAGUUUUAGUAACACUA\n",
            "CCUUGUUGGUGCUAGAGAAUCAUUCAGUUACUGCUCGCUGGAGAGAAACCAGGGAAGGCG\n",
            "GCAUGUGAUUGUGCUCUCAGAGCUGAGGGCUCAGGCAGGUAGAUCACUGCUCCCUACGCA\n",
            "GCAAACCUGCAUAGUUGACUAGUUUCAGGGAAUCGGACAGUGCUUCCAGAACAAUUCUUG\n",
            "AGUGUAACCUCCCCUCCUCGGCCUGAAAUCUGGCUGAUCAGGUUUGACUGUUAGUGCUAG\n",
            "GAGAGCAUCAGGGGUGGAGCCUGCCACCCUAUCGGUCUGCCACUCCCACUGCUACUGCCU\n",
            "GCCUUCUAGCGGUUCCGGAGCCGACUUGAGGUCACCUGAAACUGGACUCCAAGGAUGAUU\n",
            "UGGCUGGAAUGGGCCCCUCCCCCUUCUUCAUAACCCAGUGUCUCUGAAUAGUAAAAUUGA\n",
            "ACCUUGAUCAAA\n",
            "\n"
          ]
        },
        {
          "output_type": "display_data",
          "data": {
            "text/plain": [
              "<IPython.core.display.Javascript object>"
            ],
            "application/javascript": [
              "\n",
              "    async function download(id, filename, size) {\n",
              "      if (!google.colab.kernel.accessAllowed) {\n",
              "        return;\n",
              "      }\n",
              "      const div = document.createElement('div');\n",
              "      const label = document.createElement('label');\n",
              "      label.textContent = `Downloading \"${filename}\": `;\n",
              "      div.appendChild(label);\n",
              "      const progress = document.createElement('progress');\n",
              "      progress.max = size;\n",
              "      div.appendChild(progress);\n",
              "      document.body.appendChild(div);\n",
              "\n",
              "      const buffers = [];\n",
              "      let downloaded = 0;\n",
              "\n",
              "      const channel = await google.colab.kernel.comms.open(id);\n",
              "      // Send a message to notify the kernel that we're ready.\n",
              "      channel.send({})\n",
              "\n",
              "      for await (const message of channel.messages) {\n",
              "        // Send a message to notify the kernel that we're ready.\n",
              "        channel.send({})\n",
              "        if (message.buffers) {\n",
              "          for (const buffer of message.buffers) {\n",
              "            buffers.push(buffer);\n",
              "            downloaded += buffer.byteLength;\n",
              "            progress.value = downloaded;\n",
              "          }\n",
              "        }\n",
              "      }\n",
              "      const blob = new Blob(buffers, {type: 'application/binary'});\n",
              "      const a = document.createElement('a');\n",
              "      a.href = window.URL.createObjectURL(blob);\n",
              "      a.download = filename;\n",
              "      div.appendChild(a);\n",
              "      a.click();\n",
              "      div.remove();\n",
              "    }\n",
              "  "
            ]
          },
          "metadata": {}
        },
        {
          "output_type": "display_data",
          "data": {
            "text/plain": [
              "<IPython.core.display.Javascript object>"
            ],
            "application/javascript": [
              "download(\"download_11cd99fa-c15b-47f5-ba88-08354986c390\", \"3067432719_RNA.fasta\", 3209)"
            ]
          },
          "metadata": {}
        },
        {
          "output_type": "stream",
          "name": "stdout",
          "text": [
            ">NM_028320.5 Mus musculus adiponectin receptor 1 (Adipor1), transcript variant 2, mRNA\n",
            "GACGCGGCUGCGGAGGUGACGCCGUGCGGUCGCGCGGCCCUUCCGGCGCGGGCAGGGCGC\n",
            "UGAGGAUCGGGCGCCCCUCGGCCGCAGGCCGCCUCCAGUGCCGCGGGAUGUAGCGCCCGG\n",
            "GCCCGCGGCCCCCAGCAGAGGCAGCCAGCCAGGCCUGUCCACCAUCACAGGAAGAUCUCU\n",
            "GCCCUCUGGGGCUGAGAGACCCCAACCUUUCUUCAAGCUGAAGCUGCCAGGCACUGAGGU\n",
            "ACCAGCCAGAUGUCUUCCCACAAAGGCUCUGCCGGGGCACAAGGCAAUGGGGCUCCUUCU\n",
            "GGUAACAGAGAAGCUGACACAGUGGAGCUGGCUGAGCUGGGGCCCCUGCUGGAGGAGAAG\n",
            "GGCAAGCGGGCAGCCAGCAGCCCAGCCAAGGCUGAGGAAGAUCAAGCAUGCCCGGUGCCU\n",
            "CAGGAAGAGGAGGAGGAGGUGCGGGUGCUGACGCUUCCUCUGCAAGCCCACCAUGCCAUG\n",
            "GAGAAGAUGGAGGAGUUCGUGUAUAAGGUCUGGGAGGGACGUUGGAGAGUCAUCCCGUAU\n",
            "GAUGUGCUUCCUGACUGGCUGAAAGACAACGACUACCUGCUACAUGGCCACAGACCACCU\n",
            "AUGCCCUCCUUUCGGGCUUGCUUCAAGAGCAUCUUCCGCAUCCACACAGAGACUGGCAAC\n",
            "AUCUGGACACAUCUGCUUGGUUUUGUGCUAUUUCUCUUUCUGGGAAUCUUGACGAUGCUG\n",
            "AGACCAAAUAUGUACUUCAUGGCUCCCCUGCAGGAGAAGGUGGUCUUCGGGAUGUUCUUC\n",
            "CUGGGCGCGGUGCUCUGCCUCAGUUUCUCCUGGCUCUUCCACACUGUCUACUGUCAUUCA\n",
            "GAGAAGGUCUCUCGGACUUUUUCCAAACUGGACUAUUCAGGGAUUGCUCUACUGAUUAUG\n",
            "GGGAGCUUCGUUCCCUGGCUCUAUUACUCCUUCUACUGCUCCCCACAGCCGCGGCUCAUC\n",
            "UACCUCUCCAUCGUCUGUGUCCUGGGCAUCUCUGCCAUCAUUGUGGCACAGUGGGACCGG\n",
            "UUUGCCACUCCCAAGCACCGGCAGACAAGAGCAGGAGUGUUCCUGGGACUUGGCUUGAGU\n",
            "GGUGUUGUACCCACCAUGCACUUUACUAUCGCUGAGGGCUUUGUCAAGGCCACCACGGUG\n",
            "GGCCAGAUGGGCUGGUUCUUCCUCAUGGCUGUGAUGUACAUCACCGGCGCCGGCCUGUAU\n",
            "GCUGCUCGGAUUCCUGAGCGCUUCUUCCCUGGAAAAUUUGACAUCUGGUUCCAGUCUCAU\n",
            "CAGAUUUUCCACGUCCUGGUGGUGGCAGCAGCUUUCGUCCACUUCUAUGGUGUGUCCAAC\n",
            "CUUCAGGAAUUCCGUUAUGGCCUAGAAGGUGGCUGUACCGACGACUCCCUUCUCUGAGCC\n",
            "UCCCCACCUGAGGGGUGGAGGAGGGACUUCCCAAGUGCUUUUAAAAAUAACUUCUUUGCU\n",
            "GAAGUAUGAGGAAGAGUCUGAGUUGUCUGUUUCUAGAAGAAAUCUCUUAGAGAAGUCAGU\n",
            "ACCAGUGACAUGUCAGCUCACUGUCCCAGCCUCCGUCCGGGCAGUACACUUCCCAUGUGC\n",
            "AUUCCCGGCAGUCACCUCGGCAAGGCAACUGCUGCUCCUUCACAGAUAGGACGUGGGAGC\n",
            "UCAUGUUGAGAUUUUACCCAUUCCUCCAGCCAUUUUGGGAAAAAAAAAAUUAUGAACUGG\n",
            "GAUUCUUCAGAAAUUAUGUUUUGUUUUUUCUUGAAGAAAAUAUCCCCCCCUUACCCCCGU\n",
            "CCUUACUUUGUAACCUGGCUGAUAACGGGCCAUCCAUUUUUGUAGCACACUUUUCAGAAA\n",
            "CAAUUAUAACCUGGUCCCAUCUUUCUAGGACAAACAAAGCCACGCCUUGAUGUAGCCCGG\n",
            "CUAAUCAUGGAAGUACGUCCAGGCUUCAAAUAACUUGAGUUUAAAUCCUUUUUUUUUUUU\n",
            "UUCUUGGCAGAGUAAUGUAAAAUUAAAAUGGGGAAGAUAUUUAAUAUUUAAUACUAAGCU\n",
            "UUAAAAAGAAACCUGCUAUCACUGCUAUGUAUCUUGAUGCAAAGACUAUGGUGAUAAUAA\n",
            "AAGAAAGUAUAGACAACGCUUGGCAUUCAAAGAGUUAACUGUGUUGUCUCCACUGUUUGC\n",
            "ACACAACUCCUGAGGCUCGAGGUUUCUGAGGACUCAGCUUCUACUGAGAUACAAAUCGGA\n",
            "AUCAUACCAGCAGUGAGACGGGUGUGGUCAGCGAAUGAGCAUAACUCAGUUCCUAACCUC\n",
            "UCAUCUCUAAUACAACUUAGUACCAUACAGACUCCUGAUUAGUGUCCCUCAGAUGGUAGA\n",
            "GUGUGUGCCUAGCACCCACAAAGCCCUGGGUUUCGUCACCAUUAUCAGAUAAACCAGGAA\n",
            "UGGUAGGUCAUGCCUAUAACACCAAUACCAAGGAGAUUGGUAUAUACAUGAGACUGUCUC\n",
            "AGAAAGGAAAAUCACUGUGUUACCAUAGUAUUUUUGGUUUUUCGAGACAUGGUCUCUGUG\n",
            "UAGCAUUGGCUGUCUUAGAACUGACCCUGUAGACCAGGCUGGCCUCAAACUCUCAGAGAU\n",
            "CCCCCUGCAUCCACCUCCCAAGUGUUGGGAUUAAAGGCAUGUGGCACCACUGCCUAGUAU\n",
            "AGACUAUGAGAGUCUCCAGUGUUGAGGCAUACCCUAGAACUUAGUUUUAGUAACACUACC\n",
            "UUGUUGGUGCUAGAGAAUCAUUCAGUUACUGCUCGCUGGAGAGAAACCAGGGAAGGCGGC\n",
            "AUGUGAUUGUGCUCUCAGAGCUGAGGGCUCAGGCAGGUAGAUCACUGCUCCCUACGCAGC\n",
            "AAACCUGCAUAGUUGACUAGUUUCAGGGAAUCGGACAGUGCUUCCAGAACAAUUCUUGAG\n",
            "UGUAACCUCCCCUCCUCGGCCUGAAAUCUGGCUGAUCAGGUUUGACUGUUAGUGCUAGGA\n",
            "GAGCAUCAGGGGUGGAGCCUGCCACCCUAUCGGUCUGCCACUCCCACUGCUACUGCCUGC\n",
            "CUUCUAGCGGUUCCGGAGCCGACUUGAGGUCACCUGAAACUGGACUCCAAGGAUGAUUUG\n",
            "GCUGGAAUGGGCCCCUCCCCCUUCUUCAUAACCCAGUGUCUCUGAAUAGUAAAAUUGAAC\n",
            "CUUGAUCAAA\n",
            "\n"
          ]
        }
      ]
    },
    {
      "cell_type": "code",
      "source": [
        "from google.colab import files\n",
        "!pip install biopython\n",
        "from Bio import SeqIO, Entrez\n",
        "\n",
        "Entrez.email = \"your_email@example.com\"\n",
        "ids = Entrez.read(Entrez.esearch(db='nucleotide', term='[alzheimer]'))[\"IdList\"]\n",
        "\n",
        "for id1 in ids:\n",
        "    # Fetch DNA FASTA\n",
        "    handle = Entrez.efetch(db='nucleotide', id=id1, rettype=\"fasta\", retmode=\"text\")\n",
        "    record = SeqIO.read(handle, \"fasta\")\n",
        "    handle.close()\n",
        "    # Convert DNA to RNA\n",
        "    rna_seq = record.seq.transcribe()\n",
        "    record.seq = rna_seq\n",
        "    # Save and download RNA FASTA\n",
        "    rna_file = id1 + \"_rna.fasta\"\n",
        "    SeqIO.write(record, rna_file, \"fasta\")\n",
        "    files.download(rna_file)\n",
        "    print(record)"
      ],
      "metadata": {
        "colab": {
          "base_uri": "https://localhost:8080/",
          "height": 1000
        },
        "id": "w7FWIgnWmarX",
        "outputId": "6947ad96-9b49-4d6d-e169-158f533d6eb3"
      },
      "execution_count": null,
      "outputs": [
        {
          "output_type": "stream",
          "name": "stdout",
          "text": [
            "Requirement already satisfied: biopython in /usr/local/lib/python3.12/dist-packages (1.85)\n",
            "Requirement already satisfied: numpy in /usr/local/lib/python3.12/dist-packages (from biopython) (2.0.2)\n"
          ]
        },
        {
          "output_type": "display_data",
          "data": {
            "text/plain": [
              "<IPython.core.display.Javascript object>"
            ],
            "application/javascript": [
              "\n",
              "    async function download(id, filename, size) {\n",
              "      if (!google.colab.kernel.accessAllowed) {\n",
              "        return;\n",
              "      }\n",
              "      const div = document.createElement('div');\n",
              "      const label = document.createElement('label');\n",
              "      label.textContent = `Downloading \"${filename}\": `;\n",
              "      div.appendChild(label);\n",
              "      const progress = document.createElement('progress');\n",
              "      progress.max = size;\n",
              "      div.appendChild(progress);\n",
              "      document.body.appendChild(div);\n",
              "\n",
              "      const buffers = [];\n",
              "      let downloaded = 0;\n",
              "\n",
              "      const channel = await google.colab.kernel.comms.open(id);\n",
              "      // Send a message to notify the kernel that we're ready.\n",
              "      channel.send({})\n",
              "\n",
              "      for await (const message of channel.messages) {\n",
              "        // Send a message to notify the kernel that we're ready.\n",
              "        channel.send({})\n",
              "        if (message.buffers) {\n",
              "          for (const buffer of message.buffers) {\n",
              "            buffers.push(buffer);\n",
              "            downloaded += buffer.byteLength;\n",
              "            progress.value = downloaded;\n",
              "          }\n",
              "        }\n",
              "      }\n",
              "      const blob = new Blob(buffers, {type: 'application/binary'});\n",
              "      const a = document.createElement('a');\n",
              "      a.href = window.URL.createObjectURL(blob);\n",
              "      a.download = filename;\n",
              "      div.appendChild(a);\n",
              "      a.click();\n",
              "      div.remove();\n",
              "    }\n",
              "  "
            ]
          },
          "metadata": {}
        },
        {
          "output_type": "display_data",
          "data": {
            "text/plain": [
              "<IPython.core.display.Javascript object>"
            ],
            "application/javascript": [
              "download(\"download_ce4ea050-ae14-42e4-b573-0bbea57e904f\", \"1690504817_rna.fasta\", 6914)"
            ]
          },
          "metadata": {}
        },
        {
          "output_type": "stream",
          "name": "stdout",
          "text": [
            "ID: NM_013850.2\n",
            "Name: NM_013850.2\n",
            "Description: NM_013850.2 Mus musculus ATP-binding cassette, sub-family A member 7 (Abca7), transcript variant 2, mRNA\n",
            "Number of features: 0\n",
            "Seq('GUCCGCAAUUGAGCGGGGCUCCACUUAAAGGGGCCGCGCUCCCCCGCCGAGGCC...GAA')\n"
          ]
        },
        {
          "output_type": "display_data",
          "data": {
            "text/plain": [
              "<IPython.core.display.Javascript object>"
            ],
            "application/javascript": [
              "\n",
              "    async function download(id, filename, size) {\n",
              "      if (!google.colab.kernel.accessAllowed) {\n",
              "        return;\n",
              "      }\n",
              "      const div = document.createElement('div');\n",
              "      const label = document.createElement('label');\n",
              "      label.textContent = `Downloading \"${filename}\": `;\n",
              "      div.appendChild(label);\n",
              "      const progress = document.createElement('progress');\n",
              "      progress.max = size;\n",
              "      div.appendChild(progress);\n",
              "      document.body.appendChild(div);\n",
              "\n",
              "      const buffers = [];\n",
              "      let downloaded = 0;\n",
              "\n",
              "      const channel = await google.colab.kernel.comms.open(id);\n",
              "      // Send a message to notify the kernel that we're ready.\n",
              "      channel.send({})\n",
              "\n",
              "      for await (const message of channel.messages) {\n",
              "        // Send a message to notify the kernel that we're ready.\n",
              "        channel.send({})\n",
              "        if (message.buffers) {\n",
              "          for (const buffer of message.buffers) {\n",
              "            buffers.push(buffer);\n",
              "            downloaded += buffer.byteLength;\n",
              "            progress.value = downloaded;\n",
              "          }\n",
              "        }\n",
              "      }\n",
              "      const blob = new Blob(buffers, {type: 'application/binary'});\n",
              "      const a = document.createElement('a');\n",
              "      a.href = window.URL.createObjectURL(blob);\n",
              "      a.download = filename;\n",
              "      div.appendChild(a);\n",
              "      a.click();\n",
              "      div.remove();\n",
              "    }\n",
              "  "
            ]
          },
          "metadata": {}
        },
        {
          "output_type": "display_data",
          "data": {
            "text/plain": [
              "<IPython.core.display.Javascript object>"
            ],
            "application/javascript": [
              "download(\"download_34e655ab-e840-4cfe-a064-2d208ee74dd6\", \"1690504747_rna.fasta\", 6941)"
            ]
          },
          "metadata": {}
        },
        {
          "output_type": "stream",
          "name": "stdout",
          "text": [
            "ID: NM_001347081.2\n",
            "Name: NM_001347081.2\n",
            "Description: NM_001347081.2 Mus musculus ATP-binding cassette, sub-family A member 7 (Abca7), transcript variant 1, mRNA\n",
            "Number of features: 0\n",
            "Seq('GUCCGCAAUUGAGCGGGGCUCCACUUAAAGGGGCCGCGCUCCCCCGCCGAGGCC...GAA')\n"
          ]
        },
        {
          "output_type": "display_data",
          "data": {
            "text/plain": [
              "<IPython.core.display.Javascript object>"
            ],
            "application/javascript": [
              "\n",
              "    async function download(id, filename, size) {\n",
              "      if (!google.colab.kernel.accessAllowed) {\n",
              "        return;\n",
              "      }\n",
              "      const div = document.createElement('div');\n",
              "      const label = document.createElement('label');\n",
              "      label.textContent = `Downloading \"${filename}\": `;\n",
              "      div.appendChild(label);\n",
              "      const progress = document.createElement('progress');\n",
              "      progress.max = size;\n",
              "      div.appendChild(progress);\n",
              "      document.body.appendChild(div);\n",
              "\n",
              "      const buffers = [];\n",
              "      let downloaded = 0;\n",
              "\n",
              "      const channel = await google.colab.kernel.comms.open(id);\n",
              "      // Send a message to notify the kernel that we're ready.\n",
              "      channel.send({})\n",
              "\n",
              "      for await (const message of channel.messages) {\n",
              "        // Send a message to notify the kernel that we're ready.\n",
              "        channel.send({})\n",
              "        if (message.buffers) {\n",
              "          for (const buffer of message.buffers) {\n",
              "            buffers.push(buffer);\n",
              "            downloaded += buffer.byteLength;\n",
              "            progress.value = downloaded;\n",
              "          }\n",
              "        }\n",
              "      }\n",
              "      const blob = new Blob(buffers, {type: 'application/binary'});\n",
              "      const a = document.createElement('a');\n",
              "      a.href = window.URL.createObjectURL(blob);\n",
              "      a.download = filename;\n",
              "      div.appendChild(a);\n",
              "      a.click();\n",
              "      div.remove();\n",
              "    }\n",
              "  "
            ]
          },
          "metadata": {}
        },
        {
          "output_type": "display_data",
          "data": {
            "text/plain": [
              "<IPython.core.display.Javascript object>"
            ],
            "application/javascript": [
              "download(\"download_70e306b5-0e0a-4949-a3d3-a8c4ce025045\", \"1376175689_rna.fasta\", 2808)"
            ]
          },
          "metadata": {}
        },
        {
          "output_type": "stream",
          "name": "stdout",
          "text": [
            "ID: NM_001362271.1\n",
            "Name: NM_001362271.1\n",
            "Description: NM_001362271.1 Mus musculus presenilin 1 (Psen1), mRNA\n",
            "Number of features: 0\n",
            "Seq('AGUUGCGACACCGGUGAGACCUCUAGGGCGGGGCCUAGGACGACCUGCUCCGUG...AAA')\n"
          ]
        },
        {
          "output_type": "display_data",
          "data": {
            "text/plain": [
              "<IPython.core.display.Javascript object>"
            ],
            "application/javascript": [
              "\n",
              "    async function download(id, filename, size) {\n",
              "      if (!google.colab.kernel.accessAllowed) {\n",
              "        return;\n",
              "      }\n",
              "      const div = document.createElement('div');\n",
              "      const label = document.createElement('label');\n",
              "      label.textContent = `Downloading \"${filename}\": `;\n",
              "      div.appendChild(label);\n",
              "      const progress = document.createElement('progress');\n",
              "      progress.max = size;\n",
              "      div.appendChild(progress);\n",
              "      document.body.appendChild(div);\n",
              "\n",
              "      const buffers = [];\n",
              "      let downloaded = 0;\n",
              "\n",
              "      const channel = await google.colab.kernel.comms.open(id);\n",
              "      // Send a message to notify the kernel that we're ready.\n",
              "      channel.send({})\n",
              "\n",
              "      for await (const message of channel.messages) {\n",
              "        // Send a message to notify the kernel that we're ready.\n",
              "        channel.send({})\n",
              "        if (message.buffers) {\n",
              "          for (const buffer of message.buffers) {\n",
              "            buffers.push(buffer);\n",
              "            downloaded += buffer.byteLength;\n",
              "            progress.value = downloaded;\n",
              "          }\n",
              "        }\n",
              "      }\n",
              "      const blob = new Blob(buffers, {type: 'application/binary'});\n",
              "      const a = document.createElement('a');\n",
              "      a.href = window.URL.createObjectURL(blob);\n",
              "      a.download = filename;\n",
              "      div.appendChild(a);\n",
              "      a.click();\n",
              "      div.remove();\n",
              "    }\n",
              "  "
            ]
          },
          "metadata": {}
        },
        {
          "output_type": "display_data",
          "data": {
            "text/plain": [
              "<IPython.core.display.Javascript object>"
            ],
            "application/javascript": [
              "download(\"download_aca575fc-4980-48a6-9581-cc1bc07193c8\", \"1653961111_rna.fasta\", 1361)"
            ]
          },
          "metadata": {}
        },
        {
          "output_type": "stream",
          "name": "stdout",
          "text": [
            "ID: NM_144589.4\n",
            "Name: NM_144589.4\n",
            "Description: NM_144589.4 Homo sapiens catechol-O-methyltransferase domain containing 1 (COMTD1), mRNA\n",
            "Number of features: 0\n",
            "Seq('ACUGCCUCCCGCCGCCUCCUGCCCGCGCCAUGACCCAGCCGGUGCCCCGGCUCU...GGA')\n"
          ]
        },
        {
          "output_type": "display_data",
          "data": {
            "text/plain": [
              "<IPython.core.display.Javascript object>"
            ],
            "application/javascript": [
              "\n",
              "    async function download(id, filename, size) {\n",
              "      if (!google.colab.kernel.accessAllowed) {\n",
              "        return;\n",
              "      }\n",
              "      const div = document.createElement('div');\n",
              "      const label = document.createElement('label');\n",
              "      label.textContent = `Downloading \"${filename}\": `;\n",
              "      div.appendChild(label);\n",
              "      const progress = document.createElement('progress');\n",
              "      progress.max = size;\n",
              "      div.appendChild(progress);\n",
              "      document.body.appendChild(div);\n",
              "\n",
              "      const buffers = [];\n",
              "      let downloaded = 0;\n",
              "\n",
              "      const channel = await google.colab.kernel.comms.open(id);\n",
              "      // Send a message to notify the kernel that we're ready.\n",
              "      channel.send({})\n",
              "\n",
              "      for await (const message of channel.messages) {\n",
              "        // Send a message to notify the kernel that we're ready.\n",
              "        channel.send({})\n",
              "        if (message.buffers) {\n",
              "          for (const buffer of message.buffers) {\n",
              "            buffers.push(buffer);\n",
              "            downloaded += buffer.byteLength;\n",
              "            progress.value = downloaded;\n",
              "          }\n",
              "        }\n",
              "      }\n",
              "      const blob = new Blob(buffers, {type: 'application/binary'});\n",
              "      const a = document.createElement('a');\n",
              "      a.href = window.URL.createObjectURL(blob);\n",
              "      a.download = filename;\n",
              "      div.appendChild(a);\n",
              "      a.click();\n",
              "      div.remove();\n",
              "    }\n",
              "  "
            ]
          },
          "metadata": {}
        },
        {
          "output_type": "display_data",
          "data": {
            "text/plain": [
              "<IPython.core.display.Javascript object>"
            ],
            "application/javascript": [
              "download(\"download_6bb65d42-1f19-4a47-be74-768603962744\", \"259013222_rna.fasta\", 284217)"
            ]
          },
          "metadata": {}
        },
        {
          "output_type": "stream",
          "name": "stdout",
          "text": [
            "ID: NG_012922.1\n",
            "Name: NG_012922.1\n",
            "Description: NG_012922.1 Homo sapiens glycogen synthase kinase 3 beta (GSK3B), RefSeqGene on chromosome 3\n",
            "Number of features: 0\n",
            "Seq('CCUGGGGUCUGGAUCAUGACCCGUUUCCUGUAACAGAUUCAAGUGUUUUUCUUU...AGA')\n"
          ]
        },
        {
          "output_type": "display_data",
          "data": {
            "text/plain": [
              "<IPython.core.display.Javascript object>"
            ],
            "application/javascript": [
              "\n",
              "    async function download(id, filename, size) {\n",
              "      if (!google.colab.kernel.accessAllowed) {\n",
              "        return;\n",
              "      }\n",
              "      const div = document.createElement('div');\n",
              "      const label = document.createElement('label');\n",
              "      label.textContent = `Downloading \"${filename}\": `;\n",
              "      div.appendChild(label);\n",
              "      const progress = document.createElement('progress');\n",
              "      progress.max = size;\n",
              "      div.appendChild(progress);\n",
              "      document.body.appendChild(div);\n",
              "\n",
              "      const buffers = [];\n",
              "      let downloaded = 0;\n",
              "\n",
              "      const channel = await google.colab.kernel.comms.open(id);\n",
              "      // Send a message to notify the kernel that we're ready.\n",
              "      channel.send({})\n",
              "\n",
              "      for await (const message of channel.messages) {\n",
              "        // Send a message to notify the kernel that we're ready.\n",
              "        channel.send({})\n",
              "        if (message.buffers) {\n",
              "          for (const buffer of message.buffers) {\n",
              "            buffers.push(buffer);\n",
              "            downloaded += buffer.byteLength;\n",
              "            progress.value = downloaded;\n",
              "          }\n",
              "        }\n",
              "      }\n",
              "      const blob = new Blob(buffers, {type: 'application/binary'});\n",
              "      const a = document.createElement('a');\n",
              "      a.href = window.URL.createObjectURL(blob);\n",
              "      a.download = filename;\n",
              "      div.appendChild(a);\n",
              "      a.click();\n",
              "      div.remove();\n",
              "    }\n",
              "  "
            ]
          },
          "metadata": {}
        },
        {
          "output_type": "display_data",
          "data": {
            "text/plain": [
              "<IPython.core.display.Javascript object>"
            ],
            "application/javascript": [
              "download(\"download_65de8e0c-7d30-44c2-bee7-ae98d34df332\", \"1889616329_rna.fasta\", 3139)"
            ]
          },
          "metadata": {}
        },
        {
          "output_type": "stream",
          "name": "stdout",
          "text": [
            "ID: NM_001195602.2\n",
            "Name: NM_001195602.2\n",
            "Description: NM_001195602.2 Homo sapiens selenophosphate synthetase 1 (SEPHS1), transcript variant 2, mRNA\n",
            "Number of features: 0\n",
            "Seq('GCACGCCGCCACCCAGCAGCCAGGGCCGCCUCUUAAAGGGAGGUGGCCGGCCUU...AAA')\n"
          ]
        },
        {
          "output_type": "display_data",
          "data": {
            "text/plain": [
              "<IPython.core.display.Javascript object>"
            ],
            "application/javascript": [
              "\n",
              "    async function download(id, filename, size) {\n",
              "      if (!google.colab.kernel.accessAllowed) {\n",
              "        return;\n",
              "      }\n",
              "      const div = document.createElement('div');\n",
              "      const label = document.createElement('label');\n",
              "      label.textContent = `Downloading \"${filename}\": `;\n",
              "      div.appendChild(label);\n",
              "      const progress = document.createElement('progress');\n",
              "      progress.max = size;\n",
              "      div.appendChild(progress);\n",
              "      document.body.appendChild(div);\n",
              "\n",
              "      const buffers = [];\n",
              "      let downloaded = 0;\n",
              "\n",
              "      const channel = await google.colab.kernel.comms.open(id);\n",
              "      // Send a message to notify the kernel that we're ready.\n",
              "      channel.send({})\n",
              "\n",
              "      for await (const message of channel.messages) {\n",
              "        // Send a message to notify the kernel that we're ready.\n",
              "        channel.send({})\n",
              "        if (message.buffers) {\n",
              "          for (const buffer of message.buffers) {\n",
              "            buffers.push(buffer);\n",
              "            downloaded += buffer.byteLength;\n",
              "            progress.value = downloaded;\n",
              "          }\n",
              "        }\n",
              "      }\n",
              "      const blob = new Blob(buffers, {type: 'application/binary'});\n",
              "      const a = document.createElement('a');\n",
              "      a.href = window.URL.createObjectURL(blob);\n",
              "      a.download = filename;\n",
              "      div.appendChild(a);\n",
              "      a.click();\n",
              "      div.remove();\n",
              "    }\n",
              "  "
            ]
          },
          "metadata": {}
        },
        {
          "output_type": "display_data",
          "data": {
            "text/plain": [
              "<IPython.core.display.Javascript object>"
            ],
            "application/javascript": [
              "download(\"download_16708cf8-7fec-406d-a56f-6290c6e0b0f3\", \"1772667688_rna.fasta\", 3644)"
            ]
          },
          "metadata": {}
        },
        {
          "output_type": "stream",
          "name": "stdout",
          "text": [
            "ID: NR_164738.1\n",
            "Name: NR_164738.1\n",
            "Description: NR_164738.1 Homo sapiens selenophosphate synthetase 1 (SEPHS1), transcript variant 5, non-coding RNA\n",
            "Number of features: 0\n",
            "Seq('GCACGCCGCCACCCAGCAGCCAGGGCCGCCUCUUAAAGGGAGGUGGCCGGCCUU...AAA')\n"
          ]
        },
        {
          "output_type": "display_data",
          "data": {
            "text/plain": [
              "<IPython.core.display.Javascript object>"
            ],
            "application/javascript": [
              "\n",
              "    async function download(id, filename, size) {\n",
              "      if (!google.colab.kernel.accessAllowed) {\n",
              "        return;\n",
              "      }\n",
              "      const div = document.createElement('div');\n",
              "      const label = document.createElement('label');\n",
              "      label.textContent = `Downloading \"${filename}\": `;\n",
              "      div.appendChild(label);\n",
              "      const progress = document.createElement('progress');\n",
              "      progress.max = size;\n",
              "      div.appendChild(progress);\n",
              "      document.body.appendChild(div);\n",
              "\n",
              "      const buffers = [];\n",
              "      let downloaded = 0;\n",
              "\n",
              "      const channel = await google.colab.kernel.comms.open(id);\n",
              "      // Send a message to notify the kernel that we're ready.\n",
              "      channel.send({})\n",
              "\n",
              "      for await (const message of channel.messages) {\n",
              "        // Send a message to notify the kernel that we're ready.\n",
              "        channel.send({})\n",
              "        if (message.buffers) {\n",
              "          for (const buffer of message.buffers) {\n",
              "            buffers.push(buffer);\n",
              "            downloaded += buffer.byteLength;\n",
              "            progress.value = downloaded;\n",
              "          }\n",
              "        }\n",
              "      }\n",
              "      const blob = new Blob(buffers, {type: 'application/binary'});\n",
              "      const a = document.createElement('a');\n",
              "      a.href = window.URL.createObjectURL(blob);\n",
              "      a.download = filename;\n",
              "      div.appendChild(a);\n",
              "      a.click();\n",
              "      div.remove();\n",
              "    }\n",
              "  "
            ]
          },
          "metadata": {}
        },
        {
          "output_type": "display_data",
          "data": {
            "text/plain": [
              "<IPython.core.display.Javascript object>"
            ],
            "application/javascript": [
              "download(\"download_75693155-b255-4bfb-8f9c-99409e1d68f0\", \"1771827000_rna.fasta\", 3409)"
            ]
          },
          "metadata": {}
        },
        {
          "output_type": "stream",
          "name": "stdout",
          "text": [
            "ID: NM_001375769.1\n",
            "Name: NM_001375769.1\n",
            "Description: NM_001375769.1 Homo sapiens selenophosphate synthetase 1 (SEPHS1), transcript variant 4, mRNA\n",
            "Number of features: 0\n",
            "Seq('GCACGCCGCCACCCAGCAGCCAGGGCCGCCUCUUAAAGGGAGGUGGCCGGCCUU...AAA')\n"
          ]
        },
        {
          "output_type": "display_data",
          "data": {
            "text/plain": [
              "<IPython.core.display.Javascript object>"
            ],
            "application/javascript": [
              "\n",
              "    async function download(id, filename, size) {\n",
              "      if (!google.colab.kernel.accessAllowed) {\n",
              "        return;\n",
              "      }\n",
              "      const div = document.createElement('div');\n",
              "      const label = document.createElement('label');\n",
              "      label.textContent = `Downloading \"${filename}\": `;\n",
              "      div.appendChild(label);\n",
              "      const progress = document.createElement('progress');\n",
              "      progress.max = size;\n",
              "      div.appendChild(progress);\n",
              "      document.body.appendChild(div);\n",
              "\n",
              "      const buffers = [];\n",
              "      let downloaded = 0;\n",
              "\n",
              "      const channel = await google.colab.kernel.comms.open(id);\n",
              "      // Send a message to notify the kernel that we're ready.\n",
              "      channel.send({})\n",
              "\n",
              "      for await (const message of channel.messages) {\n",
              "        // Send a message to notify the kernel that we're ready.\n",
              "        channel.send({})\n",
              "        if (message.buffers) {\n",
              "          for (const buffer of message.buffers) {\n",
              "            buffers.push(buffer);\n",
              "            downloaded += buffer.byteLength;\n",
              "            progress.value = downloaded;\n",
              "          }\n",
              "        }\n",
              "      }\n",
              "      const blob = new Blob(buffers, {type: 'application/binary'});\n",
              "      const a = document.createElement('a');\n",
              "      a.href = window.URL.createObjectURL(blob);\n",
              "      a.download = filename;\n",
              "      div.appendChild(a);\n",
              "      a.click();\n",
              "      div.remove();\n",
              "    }\n",
              "  "
            ]
          },
          "metadata": {}
        },
        {
          "output_type": "display_data",
          "data": {
            "text/plain": [
              "<IPython.core.display.Javascript object>"
            ],
            "application/javascript": [
              "download(\"download_aa2bee1f-1518-4c59-9cb0-b87c9f585c52\", \"1675025752_rna.fasta\", 3198)"
            ]
          },
          "metadata": {}
        },
        {
          "output_type": "stream",
          "name": "stdout",
          "text": [
            "ID: NM_001195604.2\n",
            "Name: NM_001195604.2\n",
            "Description: NM_001195604.2 Homo sapiens selenophosphate synthetase 1 (SEPHS1), transcript variant 3, mRNA\n",
            "Number of features: 0\n",
            "Seq('GCACGCCGCCACCCAGCAGCCAGGGCCGCCUCUUAAAGGGAGGUGGCCGGCCUU...AAA')\n"
          ]
        },
        {
          "output_type": "display_data",
          "data": {
            "text/plain": [
              "<IPython.core.display.Javascript object>"
            ],
            "application/javascript": [
              "\n",
              "    async function download(id, filename, size) {\n",
              "      if (!google.colab.kernel.accessAllowed) {\n",
              "        return;\n",
              "      }\n",
              "      const div = document.createElement('div');\n",
              "      const label = document.createElement('label');\n",
              "      label.textContent = `Downloading \"${filename}\": `;\n",
              "      div.appendChild(label);\n",
              "      const progress = document.createElement('progress');\n",
              "      progress.max = size;\n",
              "      div.appendChild(progress);\n",
              "      document.body.appendChild(div);\n",
              "\n",
              "      const buffers = [];\n",
              "      let downloaded = 0;\n",
              "\n",
              "      const channel = await google.colab.kernel.comms.open(id);\n",
              "      // Send a message to notify the kernel that we're ready.\n",
              "      channel.send({})\n",
              "\n",
              "      for await (const message of channel.messages) {\n",
              "        // Send a message to notify the kernel that we're ready.\n",
              "        channel.send({})\n",
              "        if (message.buffers) {\n",
              "          for (const buffer of message.buffers) {\n",
              "            buffers.push(buffer);\n",
              "            downloaded += buffer.byteLength;\n",
              "            progress.value = downloaded;\n",
              "          }\n",
              "        }\n",
              "      }\n",
              "      const blob = new Blob(buffers, {type: 'application/binary'});\n",
              "      const a = document.createElement('a');\n",
              "      a.href = window.URL.createObjectURL(blob);\n",
              "      a.download = filename;\n",
              "      div.appendChild(a);\n",
              "      a.click();\n",
              "      div.remove();\n",
              "    }\n",
              "  "
            ]
          },
          "metadata": {}
        },
        {
          "output_type": "display_data",
          "data": {
            "text/plain": [
              "<IPython.core.display.Javascript object>"
            ],
            "application/javascript": [
              "download(\"download_2205369a-ab72-4aea-b3d4-b965d5338660\", \"1519244180_rna.fasta\", 3412)"
            ]
          },
          "metadata": {}
        },
        {
          "output_type": "stream",
          "name": "stdout",
          "text": [
            "ID: NM_012247.5\n",
            "Name: NM_012247.5\n",
            "Description: NM_012247.5 Homo sapiens selenophosphate synthetase 1 (SEPHS1), transcript variant 1, mRNA\n",
            "Number of features: 0\n",
            "Seq('GCACGCCGCCACCCAGCAGCCAGGGCCGCCUCUUAAAGGGAGGUGGCCGGCCUU...AAA')\n"
          ]
        },
        {
          "output_type": "display_data",
          "data": {
            "text/plain": [
              "<IPython.core.display.Javascript object>"
            ],
            "application/javascript": [
              "\n",
              "    async function download(id, filename, size) {\n",
              "      if (!google.colab.kernel.accessAllowed) {\n",
              "        return;\n",
              "      }\n",
              "      const div = document.createElement('div');\n",
              "      const label = document.createElement('label');\n",
              "      label.textContent = `Downloading \"${filename}\": `;\n",
              "      div.appendChild(label);\n",
              "      const progress = document.createElement('progress');\n",
              "      progress.max = size;\n",
              "      div.appendChild(progress);\n",
              "      document.body.appendChild(div);\n",
              "\n",
              "      const buffers = [];\n",
              "      let downloaded = 0;\n",
              "\n",
              "      const channel = await google.colab.kernel.comms.open(id);\n",
              "      // Send a message to notify the kernel that we're ready.\n",
              "      channel.send({})\n",
              "\n",
              "      for await (const message of channel.messages) {\n",
              "        // Send a message to notify the kernel that we're ready.\n",
              "        channel.send({})\n",
              "        if (message.buffers) {\n",
              "          for (const buffer of message.buffers) {\n",
              "            buffers.push(buffer);\n",
              "            downloaded += buffer.byteLength;\n",
              "            progress.value = downloaded;\n",
              "          }\n",
              "        }\n",
              "      }\n",
              "      const blob = new Blob(buffers, {type: 'application/binary'});\n",
              "      const a = document.createElement('a');\n",
              "      a.href = window.URL.createObjectURL(blob);\n",
              "      a.download = filename;\n",
              "      div.appendChild(a);\n",
              "      a.click();\n",
              "      div.remove();\n",
              "    }\n",
              "  "
            ]
          },
          "metadata": {}
        },
        {
          "output_type": "display_data",
          "data": {
            "text/plain": [
              "<IPython.core.display.Javascript object>"
            ],
            "application/javascript": [
              "download(\"download_8ff5b469-d430-4e13-9ebb-13351451d857\", \"2515422211_rna.fasta\", 1224)"
            ]
          },
          "metadata": {}
        },
        {
          "output_type": "stream",
          "name": "stdout",
          "text": [
            "ID: NR_047538.2\n",
            "Name: NR_047538.2\n",
            "Description: NR_047538.2 Homo sapiens CDKN2B and CDKN2A antisense cis and trans regulatory RNA 1 (CDKN2B-AS1), transcript variant 8, long non-coding RNA\n",
            "Number of features: 0\n",
            "Seq('AGCUACAUCCGUCACCUGACACGGCCCUACCAGGAACAGCCGCGCUCCCGCGGA...AUA')\n"
          ]
        },
        {
          "output_type": "display_data",
          "data": {
            "text/plain": [
              "<IPython.core.display.Javascript object>"
            ],
            "application/javascript": [
              "\n",
              "    async function download(id, filename, size) {\n",
              "      if (!google.colab.kernel.accessAllowed) {\n",
              "        return;\n",
              "      }\n",
              "      const div = document.createElement('div');\n",
              "      const label = document.createElement('label');\n",
              "      label.textContent = `Downloading \"${filename}\": `;\n",
              "      div.appendChild(label);\n",
              "      const progress = document.createElement('progress');\n",
              "      progress.max = size;\n",
              "      div.appendChild(progress);\n",
              "      document.body.appendChild(div);\n",
              "\n",
              "      const buffers = [];\n",
              "      let downloaded = 0;\n",
              "\n",
              "      const channel = await google.colab.kernel.comms.open(id);\n",
              "      // Send a message to notify the kernel that we're ready.\n",
              "      channel.send({})\n",
              "\n",
              "      for await (const message of channel.messages) {\n",
              "        // Send a message to notify the kernel that we're ready.\n",
              "        channel.send({})\n",
              "        if (message.buffers) {\n",
              "          for (const buffer of message.buffers) {\n",
              "            buffers.push(buffer);\n",
              "            downloaded += buffer.byteLength;\n",
              "            progress.value = downloaded;\n",
              "          }\n",
              "        }\n",
              "      }\n",
              "      const blob = new Blob(buffers, {type: 'application/binary'});\n",
              "      const a = document.createElement('a');\n",
              "      a.href = window.URL.createObjectURL(blob);\n",
              "      a.download = filename;\n",
              "      div.appendChild(a);\n",
              "      a.click();\n",
              "      div.remove();\n",
              "    }\n",
              "  "
            ]
          },
          "metadata": {}
        },
        {
          "output_type": "display_data",
          "data": {
            "text/plain": [
              "<IPython.core.display.Javascript object>"
            ],
            "application/javascript": [
              "download(\"download_57250545-8c63-46b1-bcd7-ff8b6ec15352\", \"2514929771_rna.fasta\", 2421)"
            ]
          },
          "metadata": {}
        },
        {
          "output_type": "stream",
          "name": "stdout",
          "text": [
            "ID: NR_047532.2\n",
            "Name: NR_047532.2\n",
            "Description: NR_047532.2 Homo sapiens CDKN2B and CDKN2A antisense cis and trans regulatory RNA 1 (CDKN2B-AS1), transcript variant 2, long non-coding RNA\n",
            "Number of features: 0\n",
            "Seq('AGCUACAUCCGUCACCUGACACGGCCCUACCAGGAACAGCCGCGCUCCCGCGGA...AUA')\n"
          ]
        },
        {
          "output_type": "display_data",
          "data": {
            "text/plain": [
              "<IPython.core.display.Javascript object>"
            ],
            "application/javascript": [
              "\n",
              "    async function download(id, filename, size) {\n",
              "      if (!google.colab.kernel.accessAllowed) {\n",
              "        return;\n",
              "      }\n",
              "      const div = document.createElement('div');\n",
              "      const label = document.createElement('label');\n",
              "      label.textContent = `Downloading \"${filename}\": `;\n",
              "      div.appendChild(label);\n",
              "      const progress = document.createElement('progress');\n",
              "      progress.max = size;\n",
              "      div.appendChild(progress);\n",
              "      document.body.appendChild(div);\n",
              "\n",
              "      const buffers = [];\n",
              "      let downloaded = 0;\n",
              "\n",
              "      const channel = await google.colab.kernel.comms.open(id);\n",
              "      // Send a message to notify the kernel that we're ready.\n",
              "      channel.send({})\n",
              "\n",
              "      for await (const message of channel.messages) {\n",
              "        // Send a message to notify the kernel that we're ready.\n",
              "        channel.send({})\n",
              "        if (message.buffers) {\n",
              "          for (const buffer of message.buffers) {\n",
              "            buffers.push(buffer);\n",
              "            downloaded += buffer.byteLength;\n",
              "            progress.value = downloaded;\n",
              "          }\n",
              "        }\n",
              "      }\n",
              "      const blob = new Blob(buffers, {type: 'application/binary'});\n",
              "      const a = document.createElement('a');\n",
              "      a.href = window.URL.createObjectURL(blob);\n",
              "      a.download = filename;\n",
              "      div.appendChild(a);\n",
              "      a.click();\n",
              "      div.remove();\n",
              "    }\n",
              "  "
            ]
          },
          "metadata": {}
        },
        {
          "output_type": "display_data",
          "data": {
            "text/plain": [
              "<IPython.core.display.Javascript object>"
            ],
            "application/javascript": [
              "download(\"download_732fc553-ecbc-49b6-aab4-59b76fb1fc6f\", \"2514928594_rna.fasta\", 1702)"
            ]
          },
          "metadata": {}
        },
        {
          "output_type": "stream",
          "name": "stdout",
          "text": [
            "ID: NR_047543.2\n",
            "Name: NR_047543.2\n",
            "Description: NR_047543.2 Homo sapiens CDKN2B and CDKN2A antisense cis and trans regulatory RNA 1 (CDKN2B-AS1), transcript variant 3, long non-coding RNA\n",
            "Number of features: 0\n",
            "Seq('AGCUACAUCCGUCACCUGACACGGCCCUACCAGGAACAGCCGCGCUCCCGCGGA...AUA')\n"
          ]
        },
        {
          "output_type": "display_data",
          "data": {
            "text/plain": [
              "<IPython.core.display.Javascript object>"
            ],
            "application/javascript": [
              "\n",
              "    async function download(id, filename, size) {\n",
              "      if (!google.colab.kernel.accessAllowed) {\n",
              "        return;\n",
              "      }\n",
              "      const div = document.createElement('div');\n",
              "      const label = document.createElement('label');\n",
              "      label.textContent = `Downloading \"${filename}\": `;\n",
              "      div.appendChild(label);\n",
              "      const progress = document.createElement('progress');\n",
              "      progress.max = size;\n",
              "      div.appendChild(progress);\n",
              "      document.body.appendChild(div);\n",
              "\n",
              "      const buffers = [];\n",
              "      let downloaded = 0;\n",
              "\n",
              "      const channel = await google.colab.kernel.comms.open(id);\n",
              "      // Send a message to notify the kernel that we're ready.\n",
              "      channel.send({})\n",
              "\n",
              "      for await (const message of channel.messages) {\n",
              "        // Send a message to notify the kernel that we're ready.\n",
              "        channel.send({})\n",
              "        if (message.buffers) {\n",
              "          for (const buffer of message.buffers) {\n",
              "            buffers.push(buffer);\n",
              "            downloaded += buffer.byteLength;\n",
              "            progress.value = downloaded;\n",
              "          }\n",
              "        }\n",
              "      }\n",
              "      const blob = new Blob(buffers, {type: 'application/binary'});\n",
              "      const a = document.createElement('a');\n",
              "      a.href = window.URL.createObjectURL(blob);\n",
              "      a.download = filename;\n",
              "      div.appendChild(a);\n",
              "      a.click();\n",
              "      div.remove();\n",
              "    }\n",
              "  "
            ]
          },
          "metadata": {}
        },
        {
          "output_type": "display_data",
          "data": {
            "text/plain": [
              "<IPython.core.display.Javascript object>"
            ],
            "application/javascript": [
              "download(\"download_6d9876ad-f9c3-472c-a000-68600ee1681d\", \"2514928548_rna.fasta\", 1780)"
            ]
          },
          "metadata": {}
        },
        {
          "output_type": "stream",
          "name": "stdout",
          "text": [
            "ID: NR_047541.2\n",
            "Name: NR_047541.2\n",
            "Description: NR_047541.2 Homo sapiens CDKN2B and CDKN2A antisense cis and trans regulatory RNA 1 (CDKN2B-AS1), transcript variant 11, long non-coding RNA\n",
            "Number of features: 0\n",
            "Seq('AGCUACAUCCGUCACCUGACACGGCCCUACCAGGAACAGCCGCGCUCCCGCGGA...CCA')\n"
          ]
        },
        {
          "output_type": "display_data",
          "data": {
            "text/plain": [
              "<IPython.core.display.Javascript object>"
            ],
            "application/javascript": [
              "\n",
              "    async function download(id, filename, size) {\n",
              "      if (!google.colab.kernel.accessAllowed) {\n",
              "        return;\n",
              "      }\n",
              "      const div = document.createElement('div');\n",
              "      const label = document.createElement('label');\n",
              "      label.textContent = `Downloading \"${filename}\": `;\n",
              "      div.appendChild(label);\n",
              "      const progress = document.createElement('progress');\n",
              "      progress.max = size;\n",
              "      div.appendChild(progress);\n",
              "      document.body.appendChild(div);\n",
              "\n",
              "      const buffers = [];\n",
              "      let downloaded = 0;\n",
              "\n",
              "      const channel = await google.colab.kernel.comms.open(id);\n",
              "      // Send a message to notify the kernel that we're ready.\n",
              "      channel.send({})\n",
              "\n",
              "      for await (const message of channel.messages) {\n",
              "        // Send a message to notify the kernel that we're ready.\n",
              "        channel.send({})\n",
              "        if (message.buffers) {\n",
              "          for (const buffer of message.buffers) {\n",
              "            buffers.push(buffer);\n",
              "            downloaded += buffer.byteLength;\n",
              "            progress.value = downloaded;\n",
              "          }\n",
              "        }\n",
              "      }\n",
              "      const blob = new Blob(buffers, {type: 'application/binary'});\n",
              "      const a = document.createElement('a');\n",
              "      a.href = window.URL.createObjectURL(blob);\n",
              "      a.download = filename;\n",
              "      div.appendChild(a);\n",
              "      a.click();\n",
              "      div.remove();\n",
              "    }\n",
              "  "
            ]
          },
          "metadata": {}
        },
        {
          "output_type": "display_data",
          "data": {
            "text/plain": [
              "<IPython.core.display.Javascript object>"
            ],
            "application/javascript": [
              "download(\"download_0fe8fd79-37dc-4fcd-80d3-07da4a23fbc1\", \"2514928296_rna.fasta\", 1566)"
            ]
          },
          "metadata": {}
        },
        {
          "output_type": "stream",
          "name": "stdout",
          "text": [
            "ID: NR_047535.2\n",
            "Name: NR_047535.2\n",
            "Description: NR_047535.2 Homo sapiens CDKN2B and CDKN2A antisense cis and trans regulatory RNA 1 (CDKN2B-AS1), transcript variant 5, long non-coding RNA\n",
            "Number of features: 0\n",
            "Seq('AGCUACAUCCGUCACCUGACACGGCCCUACCAGGAACAGCCGCGCUCCCGCGGA...AUA')\n"
          ]
        },
        {
          "output_type": "display_data",
          "data": {
            "text/plain": [
              "<IPython.core.display.Javascript object>"
            ],
            "application/javascript": [
              "\n",
              "    async function download(id, filename, size) {\n",
              "      if (!google.colab.kernel.accessAllowed) {\n",
              "        return;\n",
              "      }\n",
              "      const div = document.createElement('div');\n",
              "      const label = document.createElement('label');\n",
              "      label.textContent = `Downloading \"${filename}\": `;\n",
              "      div.appendChild(label);\n",
              "      const progress = document.createElement('progress');\n",
              "      progress.max = size;\n",
              "      div.appendChild(progress);\n",
              "      document.body.appendChild(div);\n",
              "\n",
              "      const buffers = [];\n",
              "      let downloaded = 0;\n",
              "\n",
              "      const channel = await google.colab.kernel.comms.open(id);\n",
              "      // Send a message to notify the kernel that we're ready.\n",
              "      channel.send({})\n",
              "\n",
              "      for await (const message of channel.messages) {\n",
              "        // Send a message to notify the kernel that we're ready.\n",
              "        channel.send({})\n",
              "        if (message.buffers) {\n",
              "          for (const buffer of message.buffers) {\n",
              "            buffers.push(buffer);\n",
              "            downloaded += buffer.byteLength;\n",
              "            progress.value = downloaded;\n",
              "          }\n",
              "        }\n",
              "      }\n",
              "      const blob = new Blob(buffers, {type: 'application/binary'});\n",
              "      const a = document.createElement('a');\n",
              "      a.href = window.URL.createObjectURL(blob);\n",
              "      a.download = filename;\n",
              "      div.appendChild(a);\n",
              "      a.click();\n",
              "      div.remove();\n",
              "    }\n",
              "  "
            ]
          },
          "metadata": {}
        },
        {
          "output_type": "display_data",
          "data": {
            "text/plain": [
              "<IPython.core.display.Javascript object>"
            ],
            "application/javascript": [
              "download(\"download_a7ed1037-d77b-4fec-9cd5-ce882854d9c6\", \"2514927965_rna.fasta\", 1673)"
            ]
          },
          "metadata": {}
        },
        {
          "output_type": "stream",
          "name": "stdout",
          "text": [
            "ID: NR_047534.2\n",
            "Name: NR_047534.2\n",
            "Description: NR_047534.2 Homo sapiens CDKN2B and CDKN2A antisense cis and trans regulatory RNA 1 (CDKN2B-AS1), transcript variant 4, long non-coding RNA\n",
            "Number of features: 0\n",
            "Seq('AGCUACAUCCGUCACCUGACACGGCCCUACCAGGAACAGCCGCGCUCCCGCGGA...AUA')\n"
          ]
        },
        {
          "output_type": "display_data",
          "data": {
            "text/plain": [
              "<IPython.core.display.Javascript object>"
            ],
            "application/javascript": [
              "\n",
              "    async function download(id, filename, size) {\n",
              "      if (!google.colab.kernel.accessAllowed) {\n",
              "        return;\n",
              "      }\n",
              "      const div = document.createElement('div');\n",
              "      const label = document.createElement('label');\n",
              "      label.textContent = `Downloading \"${filename}\": `;\n",
              "      div.appendChild(label);\n",
              "      const progress = document.createElement('progress');\n",
              "      progress.max = size;\n",
              "      div.appendChild(progress);\n",
              "      document.body.appendChild(div);\n",
              "\n",
              "      const buffers = [];\n",
              "      let downloaded = 0;\n",
              "\n",
              "      const channel = await google.colab.kernel.comms.open(id);\n",
              "      // Send a message to notify the kernel that we're ready.\n",
              "      channel.send({})\n",
              "\n",
              "      for await (const message of channel.messages) {\n",
              "        // Send a message to notify the kernel that we're ready.\n",
              "        channel.send({})\n",
              "        if (message.buffers) {\n",
              "          for (const buffer of message.buffers) {\n",
              "            buffers.push(buffer);\n",
              "            downloaded += buffer.byteLength;\n",
              "            progress.value = downloaded;\n",
              "          }\n",
              "        }\n",
              "      }\n",
              "      const blob = new Blob(buffers, {type: 'application/binary'});\n",
              "      const a = document.createElement('a');\n",
              "      a.href = window.URL.createObjectURL(blob);\n",
              "      a.download = filename;\n",
              "      div.appendChild(a);\n",
              "      a.click();\n",
              "      div.remove();\n",
              "    }\n",
              "  "
            ]
          },
          "metadata": {}
        },
        {
          "output_type": "display_data",
          "data": {
            "text/plain": [
              "<IPython.core.display.Javascript object>"
            ],
            "application/javascript": [
              "download(\"download_73ae0c80-5748-48c4-9e72-1fee9ae7e95a\", \"2514927889_rna.fasta\", 1704)"
            ]
          },
          "metadata": {}
        },
        {
          "output_type": "stream",
          "name": "stdout",
          "text": [
            "ID: NR_047542.2\n",
            "Name: NR_047542.2\n",
            "Description: NR_047542.2 Homo sapiens CDKN2B and CDKN2A antisense cis and trans regulatory RNA 1 (CDKN2B-AS1), transcript variant 12, long non-coding RNA\n",
            "Number of features: 0\n",
            "Seq('AGCUACAUCCGUCACCUGACACGGCCCUACCAGGAACAGCCGCGCUCCCGCGGA...CCA')\n"
          ]
        },
        {
          "output_type": "display_data",
          "data": {
            "text/plain": [
              "<IPython.core.display.Javascript object>"
            ],
            "application/javascript": [
              "\n",
              "    async function download(id, filename, size) {\n",
              "      if (!google.colab.kernel.accessAllowed) {\n",
              "        return;\n",
              "      }\n",
              "      const div = document.createElement('div');\n",
              "      const label = document.createElement('label');\n",
              "      label.textContent = `Downloading \"${filename}\": `;\n",
              "      div.appendChild(label);\n",
              "      const progress = document.createElement('progress');\n",
              "      progress.max = size;\n",
              "      div.appendChild(progress);\n",
              "      document.body.appendChild(div);\n",
              "\n",
              "      const buffers = [];\n",
              "      let downloaded = 0;\n",
              "\n",
              "      const channel = await google.colab.kernel.comms.open(id);\n",
              "      // Send a message to notify the kernel that we're ready.\n",
              "      channel.send({})\n",
              "\n",
              "      for await (const message of channel.messages) {\n",
              "        // Send a message to notify the kernel that we're ready.\n",
              "        channel.send({})\n",
              "        if (message.buffers) {\n",
              "          for (const buffer of message.buffers) {\n",
              "            buffers.push(buffer);\n",
              "            downloaded += buffer.byteLength;\n",
              "            progress.value = downloaded;\n",
              "          }\n",
              "        }\n",
              "      }\n",
              "      const blob = new Blob(buffers, {type: 'application/binary'});\n",
              "      const a = document.createElement('a');\n",
              "      a.href = window.URL.createObjectURL(blob);\n",
              "      a.download = filename;\n",
              "      div.appendChild(a);\n",
              "      a.click();\n",
              "      div.remove();\n",
              "    }\n",
              "  "
            ]
          },
          "metadata": {}
        },
        {
          "output_type": "display_data",
          "data": {
            "text/plain": [
              "<IPython.core.display.Javascript object>"
            ],
            "application/javascript": [
              "download(\"download_c92bb107-9668-4efe-a575-11a5cfeda6af\", \"2514927829_rna.fasta\", 1428)"
            ]
          },
          "metadata": {}
        },
        {
          "output_type": "stream",
          "name": "stdout",
          "text": [
            "ID: NR_047536.2\n",
            "Name: NR_047536.2\n",
            "Description: NR_047536.2 Homo sapiens CDKN2B and CDKN2A antisense cis and trans regulatory RNA 1 (CDKN2B-AS1), transcript variant 6, long non-coding RNA\n",
            "Number of features: 0\n",
            "Seq('AGCUACAUCCGUCACCUGACACGGCCCUACCAGGAACAGCCGCGCUCCCGCGGA...AUA')\n"
          ]
        },
        {
          "output_type": "display_data",
          "data": {
            "text/plain": [
              "<IPython.core.display.Javascript object>"
            ],
            "application/javascript": [
              "\n",
              "    async function download(id, filename, size) {\n",
              "      if (!google.colab.kernel.accessAllowed) {\n",
              "        return;\n",
              "      }\n",
              "      const div = document.createElement('div');\n",
              "      const label = document.createElement('label');\n",
              "      label.textContent = `Downloading \"${filename}\": `;\n",
              "      div.appendChild(label);\n",
              "      const progress = document.createElement('progress');\n",
              "      progress.max = size;\n",
              "      div.appendChild(progress);\n",
              "      document.body.appendChild(div);\n",
              "\n",
              "      const buffers = [];\n",
              "      let downloaded = 0;\n",
              "\n",
              "      const channel = await google.colab.kernel.comms.open(id);\n",
              "      // Send a message to notify the kernel that we're ready.\n",
              "      channel.send({})\n",
              "\n",
              "      for await (const message of channel.messages) {\n",
              "        // Send a message to notify the kernel that we're ready.\n",
              "        channel.send({})\n",
              "        if (message.buffers) {\n",
              "          for (const buffer of message.buffers) {\n",
              "            buffers.push(buffer);\n",
              "            downloaded += buffer.byteLength;\n",
              "            progress.value = downloaded;\n",
              "          }\n",
              "        }\n",
              "      }\n",
              "      const blob = new Blob(buffers, {type: 'application/binary'});\n",
              "      const a = document.createElement('a');\n",
              "      a.href = window.URL.createObjectURL(blob);\n",
              "      a.download = filename;\n",
              "      div.appendChild(a);\n",
              "      a.click();\n",
              "      div.remove();\n",
              "    }\n",
              "  "
            ]
          },
          "metadata": {}
        },
        {
          "output_type": "display_data",
          "data": {
            "text/plain": [
              "<IPython.core.display.Javascript object>"
            ],
            "application/javascript": [
              "download(\"download_3034bbd2-67fe-4541-aa90-18fba1ad5175\", \"2514927520_rna.fasta\", 3399)"
            ]
          },
          "metadata": {}
        },
        {
          "output_type": "stream",
          "name": "stdout",
          "text": [
            "ID: NR_047539.2\n",
            "Name: NR_047539.2\n",
            "Description: NR_047539.2 Homo sapiens CDKN2B and CDKN2A antisense cis and trans regulatory RNA 1 (CDKN2B-AS1), transcript variant 9, long non-coding RNA\n",
            "Number of features: 0\n",
            "Seq('AGCUACAUCCGUCACCUGACACGGCCCUACCAGGAACAGCCGCGCUCCCGCGGA...CCA')\n"
          ]
        },
        {
          "output_type": "display_data",
          "data": {
            "text/plain": [
              "<IPython.core.display.Javascript object>"
            ],
            "application/javascript": [
              "\n",
              "    async function download(id, filename, size) {\n",
              "      if (!google.colab.kernel.accessAllowed) {\n",
              "        return;\n",
              "      }\n",
              "      const div = document.createElement('div');\n",
              "      const label = document.createElement('label');\n",
              "      label.textContent = `Downloading \"${filename}\": `;\n",
              "      div.appendChild(label);\n",
              "      const progress = document.createElement('progress');\n",
              "      progress.max = size;\n",
              "      div.appendChild(progress);\n",
              "      document.body.appendChild(div);\n",
              "\n",
              "      const buffers = [];\n",
              "      let downloaded = 0;\n",
              "\n",
              "      const channel = await google.colab.kernel.comms.open(id);\n",
              "      // Send a message to notify the kernel that we're ready.\n",
              "      channel.send({})\n",
              "\n",
              "      for await (const message of channel.messages) {\n",
              "        // Send a message to notify the kernel that we're ready.\n",
              "        channel.send({})\n",
              "        if (message.buffers) {\n",
              "          for (const buffer of message.buffers) {\n",
              "            buffers.push(buffer);\n",
              "            downloaded += buffer.byteLength;\n",
              "            progress.value = downloaded;\n",
              "          }\n",
              "        }\n",
              "      }\n",
              "      const blob = new Blob(buffers, {type: 'application/binary'});\n",
              "      const a = document.createElement('a');\n",
              "      a.href = window.URL.createObjectURL(blob);\n",
              "      a.download = filename;\n",
              "      div.appendChild(a);\n",
              "      a.click();\n",
              "      div.remove();\n",
              "    }\n",
              "  "
            ]
          },
          "metadata": {}
        },
        {
          "output_type": "display_data",
          "data": {
            "text/plain": [
              "<IPython.core.display.Javascript object>"
            ],
            "application/javascript": [
              "download(\"download_ce72eb43-f3e7-4d1e-bf1b-f085350c0d05\", \"2514927507_rna.fasta\", 3652)"
            ]
          },
          "metadata": {}
        },
        {
          "output_type": "stream",
          "name": "stdout",
          "text": [
            "ID: NR_003529.4\n",
            "Name: NR_003529.4\n",
            "Description: NR_003529.4 Homo sapiens CDKN2B and CDKN2A antisense cis and trans regulatory RNA 1 (CDKN2B-AS1), transcript variant 1, long non-coding RNA\n",
            "Number of features: 0\n",
            "Seq('AGCUACAUCCGUCACCUGACACGGCCCUACCAGGAACAGCCGCGCUCCCGCGGA...AUA')\n"
          ]
        }
      ]
    },
    {
      "cell_type": "code",
      "source": [],
      "metadata": {
        "id": "4K7YglWNmanq"
      },
      "execution_count": null,
      "outputs": []
    }
  ]
}