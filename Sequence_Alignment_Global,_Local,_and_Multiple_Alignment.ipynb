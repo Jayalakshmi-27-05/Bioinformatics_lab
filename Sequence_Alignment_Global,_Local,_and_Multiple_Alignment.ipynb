{
  "nbformat": 4,
  "nbformat_minor": 0,
  "metadata": {
    "colab": {
      "provenance": [],
      "authorship_tag": "ABX9TyP3URrSzKZGsmLjgHIQNCIJ",
      "include_colab_link": true
    },
    "kernelspec": {
      "name": "python3",
      "display_name": "Python 3"
    },
    "language_info": {
      "name": "python"
    }
  },
  "cells": [
    {
      "cell_type": "markdown",
      "metadata": {
        "id": "view-in-github",
        "colab_type": "text"
      },
      "source": [
        "<a href=\"https://colab.research.google.com/github/Jayalakshmi-27-05/Bioinformatics_lab/blob/main/Sequence_Alignment_Global%2C_Local%2C_and_Multiple_Alignment.ipynb\" target=\"_parent\"><img src=\"https://colab.research.google.com/assets/colab-badge.svg\" alt=\"Open In Colab\"/></a>"
      ]
    },
    {
      "cell_type": "code",
      "source": [
        "pip install biopython"
      ],
      "metadata": {
        "colab": {
          "base_uri": "https://localhost:8080/"
        },
        "id": "e_sRVlMw3IyF",
        "outputId": "ec1f0ce1-2c9a-43c3-fd84-94b546c72283"
      },
      "execution_count": null,
      "outputs": [
        {
          "output_type": "stream",
          "name": "stdout",
          "text": [
            "Requirement already satisfied: biopython in /usr/local/lib/python3.12/dist-packages (1.85)\n",
            "Requirement already satisfied: numpy in /usr/local/lib/python3.12/dist-packages (from biopython) (2.0.2)\n"
          ]
        }
      ]
    },
    {
      "cell_type": "code",
      "source": [
        "from Bio import pairwise2\n",
        "from Bio.pairwise2 import format_alignment\n",
        "from Bio import Align\n",
        "from Bio.Seq import Seq\n",
        "from Bio.SeqRecord import SeqRecord\n",
        "\n",
        "# Define sequences\n",
        "seq1 = \"ACCGTGA\"\n",
        "seq2 = \"ACGTCGA\"\n",
        "seq3 = \"ACCGAGA\"\n",
        "\n",
        "# GLOBAL ALIGNMENT (Needleman–Wunsch)\n",
        "print(\"=== Global Alignment ===\")\n",
        "global_alignments = pairwise2.align.globalxx(seq1, seq2)\n",
        "for alignment in global_alignments:\n",
        "    print(format_alignment(*alignment))\n",
        "\n",
        "# LOCAL ALIGNMENT (Smith–Waterman)\n",
        "print(\"=== Local Alignment ===\")\n",
        "local_alignments = pairwise2.align.localxx(seq1, seq2)\n",
        "for alignment in local_alignments:\n",
        "    print(format_alignment(*alignment))\n",
        "\n",
        "# MULTIPLE SEQUENCE ALIGNMENT (using pairwise scoring simulation)\n",
        "print(\"=== Multiple Sequence Alignment (Illustrative) ===\")\n",
        "aligner = Align.PairwiseAligner()\n",
        "sequences = [SeqRecord(Seq(\"ACCGTGA\"), id=\"Seq1\"),\n",
        "SeqRecord(Seq(\"ACGTCGA\"), id=\"Seq2\"),\n",
        "SeqRecord(Seq(\"ACCGAGA\"), id=\"Seq3\")]\n",
        "\n",
        "for i in range(len(sequences)):\n",
        "    for j in range(i + 1, len(sequences)):\n",
        "        score = aligner.score(sequences[i].seq, sequences[j].seq)\n",
        "        print(f\"{sequences[i].id} vs {sequences[j].id} = {score}\")"
      ],
      "metadata": {
        "colab": {
          "base_uri": "https://localhost:8080/"
        },
        "id": "V8tNMzak1b4S",
        "outputId": "7e39478a-6cb8-43f3-c707-64746da9feaf"
      },
      "execution_count": null,
      "outputs": [
        {
          "output_type": "stream",
          "name": "stdout",
          "text": [
            "=== Global Alignment ===\n",
            "ACCGT-GA\n",
            "| ||| ||\n",
            "A-CGTCGA\n",
            "  Score=6\n",
            "\n",
            "ACCGT-GA\n",
            "|| || ||\n",
            "AC-GTCGA\n",
            "  Score=6\n",
            "\n",
            "=== Local Alignment ===\n",
            "ACCGT-GA\n",
            "| ||| ||\n",
            "A-CGTCGA\n",
            "  Score=6\n",
            "\n",
            "ACCGT-GA\n",
            "|| || ||\n",
            "AC-GTCGA\n",
            "  Score=6\n",
            "\n",
            "=== Multiple Sequence Alignment (Illustrative) ===\n",
            "Seq1 vs Seq2 = 6.0\n",
            "Seq1 vs Seq3 = 6.0\n",
            "Seq2 vs Seq3 = 5.0\n"
          ]
        },
        {
          "output_type": "stream",
          "name": "stderr",
          "text": [
            "/usr/local/lib/python3.12/dist-packages/Bio/pairwise2.py:278: BiopythonDeprecationWarning: Bio.pairwise2 has been deprecated, and we intend to remove it in a future release of Biopython. As an alternative, please consider using Bio.Align.PairwiseAligner as a replacement, and contact the Biopython developers if you still need the Bio.pairwise2 module.\n",
            "  warnings.warn(\n"
          ]
        }
      ]
    }
  ]
}